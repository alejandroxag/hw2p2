{
 "cells": [
  {
   "cell_type": "markdown",
   "metadata": {},
   "source": [
    "# Face Classification & Verification using CNN - HW2P2\n",
    "## 11-685 Introduction to Deep Learning"
   ]
  }
 ],
 "metadata": {
  "kernelspec": {
   "display_name": "idl_ubuntu",
   "language": "python",
   "name": "idl_ubuntu"
  }
 },
 "nbformat": 4,
 "nbformat_minor": 2
}
