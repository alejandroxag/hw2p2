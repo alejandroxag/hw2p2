{
 "cells": [
  {
   "cell_type": "code",
   "execution_count": null,
   "metadata": {},
   "outputs": [],
   "source": [
    "# default_exp hyperoptimization"
   ]
  },
  {
   "cell_type": "code",
   "execution_count": 1,
   "metadata": {},
   "outputs": [
    {
     "data": {
      "text/plain": [
       "'/home/ubuntu/hw2p2'"
      ]
     },
     "execution_count": 1,
     "metadata": {},
     "output_type": "execute_result"
    }
   ],
   "source": [
    "import os\n",
    "os.chdir('..')\n",
    "os.getcwd()"
   ]
  },
  {
   "cell_type": "code",
   "execution_count": 2,
   "metadata": {},
   "outputs": [],
   "source": [
    "#hide\n",
    "%load_ext autoreload\n",
    "%autoreload 2"
   ]
  },
  {
   "cell_type": "markdown",
   "metadata": {},
   "source": [
    "# Hyperparameters optimization\n",
    "\n",
    ">Description"
   ]
  },
  {
   "cell_type": "code",
   "execution_count": 3,
   "metadata": {},
   "outputs": [],
   "source": [
    "#export\n",
    "# imports\n",
    "import numpy as np\n",
    "import torch\n",
    "import torch.nn as nn\n",
    "from torch.utils.data import Dataset, DataLoader\n",
    "import torchvision\n",
    "from PIL import Image\n",
    "from torch.nn.functional import cosine_similarity, adaptive_avg_pool2d\n",
    "from torch.optim import Adam, SGD\n",
    "from torch.optim.lr_scheduler import StepLR\n",
    "from sklearn.metrics import roc_auc_score\n",
    "import pandas as pd\n",
    "from functools import partial\n",
    "from hyperopt import fmin, tpe, hp, Trials, STATUS_OK\n",
    "from hyperopt.pyll.base import scope\n",
    "import json\n",
    "from datetime import datetime\n",
    "import os\n",
    "import time\n",
    "\n",
    "# from datasets import FaceClassificationDataset, FaceVerificationDataset\n",
    "# from losses import CenterLoss\n",
    "# from models.mobilenet import *\n",
    "# from models.resnet import *\n",
    "from hw2p2.datasets import FaceClassificationDataset, FaceVerificationDataset\n",
    "from hw2p2.losses import CenterLoss\n",
    "from hw2p2.models.mobilenet import *\n",
    "from hw2p2.models.resnet import *"
   ]
  },
  {
   "cell_type": "code",
   "execution_count": 4,
   "metadata": {},
   "outputs": [],
   "source": [
    "#export\n",
    "def fit_predict(mc, verbose, trials=None, sample_size=None):\n",
    "    \n",
    "    assert mc['model'] in ['resnet18', 'resnet34', 'resnet50', 'mobilenet']\n",
    "\n",
    "    print(f'\\nCurrent directory: {os.getcwd()}\\n')\n",
    "    now = datetime.now().strftime(\"%d-%m-%y_%H-%M-%S\")\n",
    "    print(now)\n",
    "\n",
    "    start_time = time.time()\n",
    "    print('='*26)\n",
    "    print(pd.Series(mc))\n",
    "    print('='*26+'\\n')\n",
    "\n",
    "    num_workers = 8 if torch.cuda.is_available() else 0\n",
    "\n",
    "    if sample_size == None:\n",
    "        train_dataset = FaceClassificationDataset(mode='train')\n",
    "        val_c_dataset = FaceClassificationDataset(mode='val')\n",
    "        val_v_dataset = FaceVerificationDataset(mode='val')\n",
    "    else:\n",
    "        sample = np.array(range(sample_size)) \n",
    "        train_dataset = FaceClassificationDataset(sample, mode='train')\n",
    "        val_c_dataset = FaceClassificationDataset(sample, mode='val')\n",
    "        val_v_dataset = FaceVerificationDataset(sample, mode='val')\n",
    "\n",
    "    print(f'train_dataset_len: {len(train_dataset)}, val_c_dataset_len: {len(val_c_dataset)}, val_v_dataset_len: {len(val_v_dataset)}')\n",
    "\n",
    "    train_loader = DataLoader(train_dataset, \n",
    "                              shuffle=True, \n",
    "                              batch_size=mc['batch_size'], \n",
    "                              num_workers=num_workers, \n",
    "                              pin_memory=torch.cuda.is_available(),\n",
    "                              drop_last=True)\n",
    "    val_c_loader = DataLoader(val_c_dataset, \n",
    "                              shuffle=False, \n",
    "                              batch_size=mc['batch_size'], \n",
    "                              num_workers=num_workers, \n",
    "                              pin_memory=torch.cuda.is_available(),\n",
    "                              drop_last=True)\n",
    "    val_v_loader = DataLoader(val_v_dataset, \n",
    "                              shuffle=False, \n",
    "                              batch_size=mc['batch_size'], \n",
    "                              num_workers=num_workers, \n",
    "                              pin_memory=torch.cuda.is_available(),\n",
    "                              drop_last=True)   \n",
    "    \n",
    "    assert len(train_loader) > 0\n",
    "    assert len(val_c_loader) > 0\n",
    "    assert len(val_v_loader) > 0\n",
    "\n",
    "    if mc['model'] == 'mobilenet':\n",
    "        model = MobileNetV2(n_in_ch_bn=mc['in_channels'],\n",
    "                            ls_out_ch_bn=[16, 24, 32, 64, 96, 160, 320],\n",
    "                            ls_n_rep_bn=[1, 2, 3, 4, 3, 3, 1],\n",
    "                            ls_stride_bn=[1, 2, 2, 2, 1, 2, 1],\n",
    "                            ls_exp_fct_t_bn=[1, 6, 6, 6, 6, 6, 6],\n",
    "                            n_embeddings=1280,\n",
    "                            n_classes=mc['n_classes'],\n",
    "                            lr=mc['lr'],\n",
    "                            lr_decay=mc['lr_decay'],\n",
    "                            n_lr_decay_steps=mc['n_lr_decay_steps'],\n",
    "                            center_loss=mc['center_loss'],\n",
    "                            lr_cl=mc['lr_cl'],\n",
    "                            alpha_cl=mc['alpha_cl'],\n",
    "                            n_epochs=mc['n_epochs'],\n",
    "                            eval_steps=mc['eval_steps'])\n",
    "    else:\n",
    "        if  mc['model'] == 'resnet18': resnet_n_layers = 18\n",
    "        if  mc['model'] == 'resnet34': resnet_n_layers = 34\n",
    "        if  mc['model'] == 'resnet50': resnet_n_layers = 50\n",
    "\n",
    "        model = ResNetN(resnet_n_layers,\n",
    "                        in_channels=mc['in_channels'],\n",
    "                        n_classes=mc['n_classes'],\n",
    "                        lr=mc['lr'],\n",
    "                        lr_decay=mc['lr_decay'],\n",
    "                        n_lr_decay_steps=mc['n_lr_decay_steps'],\n",
    "                        center_loss = mc['center_loss'],\n",
    "                        lr_cl=mc['lr_cl'],\n",
    "                        alpha_cl=mc['alpha_cl'],\n",
    "                        n_epochs=mc['n_epochs'],\n",
    "                        eval_steps=mc['eval_steps'])\n",
    "    \n",
    "\n",
    "    model.fit(train_loader=train_loader, \n",
    "              val_c_loader=val_c_loader,\n",
    "              val_v_loader=val_v_loader)\n",
    "    \n",
    "    if trials is not None: \n",
    "        results = {'loss': model.train_loss,\n",
    "                   'val_c_loss': model.val_c_loss,\n",
    "                   'train_c_acc': model.train_c_acc,\n",
    "                   'val_c_acc': model.val_c_acc,\n",
    "                   'val_v_acc': model.val_v_acc,\n",
    "                   'mc': mc,\n",
    "                   'run_time': time.time()-start_time,\n",
    "                   'trajectories': model.trajectories,\n",
    "                   'model': model,\n",
    "                   'time_stamp': now,\n",
    "                   'status': STATUS_OK}\n",
    "        return results\n",
    "    else: \n",
    "        return model"
   ]
  },
  {
   "cell_type": "code",
   "execution_count": 5,
   "metadata": {},
   "outputs": [],
   "source": [
    "import os\n",
    "import numpy as np\n",
    "import torch\n",
    "from torch.utils.data import Dataset\n",
    "import torchvision\n",
    "from PIL import Image\n",
    "import pandas as pd\n",
    "from torch.utils.data import DataLoader\n",
    "import numpy as np\n",
    "import torch\n",
    "import torch.nn as nn\n",
    "from torch.optim import Adam\n",
    "from torch.optim.lr_scheduler import StepLR\n",
    "from torch.nn.functional import cosine_similarity, adaptive_avg_pool2d\n",
    "from sklearn.metrics import roc_auc_score\n",
    "\n"
   ]
  },
  {
   "cell_type": "code",
   "execution_count": 6,
   "metadata": {},
   "outputs": [
    {
     "name": "stdout",
     "output_type": "stream",
     "text": [
      "==========================\n",
      "[['model']\n",
      " ['in_channels']\n",
      " ['n_classes']\n",
      " ['batch_size']\n",
      " ['lr']\n",
      " ['lr_decay']\n",
      " ['n_lr_decay_steps']\n",
      " ['center_loss']\n",
      " ['lr_cl']\n",
      " ['alpha_cl']\n",
      " ['n_epochs']\n",
      " ['eval_steps']]\n",
      "==========================\n"
     ]
    }
   ],
   "source": [
    "space = {'model': hp.choice(label='model', options=['resnet18']),\n",
    "        #  'model': hp.choice(label='model', options=['resnet18', 'resnet34', 'resnet50', 'mobilenet']),\n",
    "         'in_channels': hp.choice(label='in_channels', options=[3]),\n",
    "         'n_classes': hp.choice(label='n_classes', options=[50]),\n",
    "         'batch_size': scope.int(hp.choice(label='batch_size', options=[16])),\n",
    "         'lr': hp.loguniform(label='lr', low=np.log(5e-4), high=np.log(0.03)),\n",
    "         'lr_decay': hp.choice(label='lr_decay', options=[0.9,0.92,0.94,\n",
    "                                                          0.96,0.98,1]),\n",
    "         'n_lr_decay_steps': hp.choice(label='n_lr_decay_steps', options=[1,2,4]),\n",
    "         'center_loss': hp.choice(label='center_loss', options=[True,False]),\n",
    "         'lr_cl': hp.choice(label='lr_cl', options=[0.4,0.5,0.6]),\n",
    "         'alpha_cl': hp.choice(label='alpha_cl', options=[0.001,0.01,0.1]),\n",
    "         'n_epochs': hp.choice(label='n_epochs', options=[16]),\n",
    "         'eval_steps': scope.int(hp.choice(label='eval_steps', options=[4])),}\n",
    "\n",
    "print(26*'=')\n",
    "print(np.expand_dims(pd.Series(space).index.to_numpy(), axis = 1))\n",
    "print(26*'=')"
   ]
  },
  {
   "cell_type": "code",
   "execution_count": 7,
   "metadata": {},
   "outputs": [
    {
     "data": {
      "text/plain": [
       "'/home/ubuntu/hw2p2'"
      ]
     },
     "execution_count": 7,
     "metadata": {},
     "output_type": "execute_result"
    }
   ],
   "source": [
    "os.getcwd()\n",
    "# os.chdir('..')"
   ]
  },
  {
   "cell_type": "code",
   "execution_count": null,
   "metadata": {},
   "outputs": [],
   "source": [
    "num_workers = 8 if torch.cuda.is_available() else 0\n",
    "trials = Trials()\n",
    "fmin_objective = partial(fit_predict, trials=trials, verbose=True, sample_size=50)\n",
    "best = fmin(fmin_objective, space=space, algo=tpe.suggest, max_evals=20, trials=trials)\n",
    "\n",
    "best_class = trials.results[np.argmin([r['val_c_loss'] for r in trials.results])]\n",
    "best_class_model = best_class['model']\n",
    "best_class_time_stamp = best_class['time_stamp']\n",
    "s = 'hw2p2' + '_' + best_class_time_stamp\n",
    "filename = f'./results/{s}.pth'\n",
    "torch.save(best_class_model.model.state_dict(), filename)\n",
    "\n",
    "best_ver = trials.results[np.argmin([r['val_v_loss'] for r in trials.results])]\n",
    "best_ver_model = best_ver['model']\n",
    "best_ver_time_stamp = best_ver['time_stamp']\n",
    "s = 'hw2p2' + '_' + best_ver_time_stamp\n",
    "filename = f'./results/{s}.pth'\n",
    "torch.save(best_ver_model.model.state_dict(), filename)\n",
    "\n"
   ]
  },
  {
   "cell_type": "code",
   "execution_count": null,
   "metadata": {},
   "outputs": [],
   "source": []
  }
 ],
 "metadata": {
  "kernelspec": {
   "display_name": "Environment (conda_idl_ubuntu)",
   "language": "python",
   "name": "conda_idl_ubuntu"
  },
  "language_info": {
   "codemirror_mode": {
    "name": "ipython",
    "version": 3
   },
   "file_extension": ".py",
   "mimetype": "text/x-python",
   "name": "python",
   "nbconvert_exporter": "python",
   "pygments_lexer": "ipython3",
   "version": "3.7.10"
  }
 },
 "nbformat": 4,
 "nbformat_minor": 4
}
