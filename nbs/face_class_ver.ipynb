{
 "cells": [
  {
   "cell_type": "code",
   "execution_count": null,
   "metadata": {},
   "outputs": [],
   "source": [
    "# default_exp face_class_ver"
   ]
  },
  {
   "cell_type": "code",
   "execution_count": null,
   "metadata": {},
   "outputs": [],
   "source": [
    "import os\n",
    "os.chdir('..')\n",
    "os.getcwd()"
   ]
  },
  {
   "cell_type": "code",
   "execution_count": 3,
   "metadata": {},
   "outputs": [],
   "source": [
    "#hide\n",
    "%load_ext autoreload\n",
    "%autoreload 2"
   ]
  },
  {
   "cell_type": "code",
   "execution_count": 4,
   "metadata": {},
   "outputs": [],
   "source": [
    "#export\n",
    "# imports\n",
    "import os\n",
    "import time\n",
    "from functools import partial\n",
    "import json\n",
    "from datetime import datetime\n",
    "\n",
    "import numpy as np\n",
    "import pandas as pd\n",
    "import matplotlib.pyplot as plt\n",
    "\n",
    "import torch\n",
    "import torch.nn as nn\n",
    "from torch.utils.data import Dataset, DataLoader\n",
    "\n",
    "import torchvision\n",
    "from torchvision import transforms\n",
    "from PIL import Image\n",
    "from sklearn.metrics import roc_auc_score\n",
    "\n",
    "from hyperopt import fmin, tpe, hp, Trials, STATUS_OK\n",
    "from hyperopt.pyll.base import scope\n",
    "\n",
    "from hw2p2.models.resnet import *\n",
    "from hw2p2.hyperoptimization import fit_predict\n",
    "#from hw2p2.datasets import FaceClassificationDataset, FaceVerificationDataset"
   ]
  },
  {
   "cell_type": "markdown",
   "metadata": {},
   "source": [
    "# DATASETS"
   ]
  },
  {
   "cell_type": "code",
   "execution_count": 5,
   "metadata": {},
   "outputs": [],
   "source": [
    "#export\n",
    "class FaceClassificationDataset(Dataset):\n",
    "    \"\"\"\n",
    "    \"\"\"\n",
    "    def __init__(self,\n",
    "                 mode,\n",
    "                 trans_list):\n",
    "\n",
    "        # Assertions to avoid wrong inputs\n",
    "        assert mode in ['train', 'val', 'test']\n",
    "        assert mode == 'test' and n_classes == None or mode != 'test'\n",
    "\n",
    "        # Directory setup\n",
    "        data_dirs = {'train': './nbs/data/s1/train_data',\n",
    "                     'val': './nbs/data/s1/val_data',\n",
    "                     'test': './nbs/data/s1/test_data'}\n",
    "        self.data_dir = data_dirs[mode]\n",
    "        self.mode = mode\n",
    "        self.trans_list = trans_list\n",
    "\n",
    "        # Labels\n",
    "        if (mode in ['train', 'val']):\n",
    "            #self.labels = np.array([int(d) for d in os.listdir(self.data_dir)])\n",
    "            self.labels = np.array([int(d) for d in os.listdir(self.data_dir) \\\n",
    "                                           for file in os.listdir(f'{self.data_dir}/{d}')])\n",
    "            \n",
    "            self.X = np.array([str(file) for d in os.listdir(self.data_dir) \\\n",
    "                                           for file in os.listdir(f'{self.data_dir}/{d}')])\n",
    "        \n",
    "        elif mode == 'test':\n",
    "            self.labels = os.listdir(self.data_dir)\n",
    "            self.labels = np.array([int(f.split('.')[0]) for f in self.labels])\n",
    "            self.labels.sort(axis=0)\n",
    "\n",
    "            self.map_files = []\n",
    "            for l in self.labels:\n",
    "                temp_ls = [(l, f) for f in \\\n",
    "                    os.listdir(os.path.join(self.data_dir, str(l)))]\n",
    "                temp_ls = [(t[0], t[1]) for t in temp_ls]\n",
    "                self.map_files.append(temp_ls)\n",
    "\n",
    "            self.map_files = [t for sl in self.map_files for t in sl]\n",
    "            self.labels = [t[0] for t in self.map_files]\n",
    "            self.X = [t[1] for t in self.map_files]\n",
    "   \n",
    "    def __len__(self): \n",
    "            return len(self.X)\n",
    "\n",
    "    def __getitem__(self, idx):\n",
    "        preprocess = transforms.Compose(self.trans_list)\n",
    "        \n",
    "        image_path = os.path.join(self.data_dir, \n",
    "                                  str(self.labels[idx]), \n",
    "                                  self.X[idx])\n",
    "        image_tensor = Image.open(image_path)\n",
    "        image_tensor = preprocess(image_tensor)\n",
    "\n",
    "        if self.mode == 'test': \n",
    "            return image_tensor\n",
    "        else: \n",
    "            return image_tensor, self.labels[idx]"
   ]
  },
  {
   "cell_type": "code",
   "execution_count": 6,
   "metadata": {},
   "outputs": [],
   "source": [
    "#export\n",
    "class FaceVerificationDataset(Dataset):\n",
    "    \"\"\"\n",
    "    \"\"\"\n",
    "    def __init__(self,\n",
    "                 sample=None,\n",
    "                 mode='val'):\n",
    "\n",
    "        # Assertions to avoid wrong inputs\n",
    "        assert mode in ['val', 'test']\n",
    "        assert mode == 'test' and sample == None or \\\n",
    "            mode != 'test'\n",
    "        if sample is not None:\n",
    "            assert isinstance(sample, (list, np.ndarray))\n",
    "\n",
    "        self.mode = mode\n",
    "        self.data_dir = './data/s2/'\n",
    "\n",
    "        # Directory setup\n",
    "        if mode == 'val': \n",
    "            self.pairs_file = \\\n",
    "                './data/s2/verification_pairs_val.txt'\n",
    "        else:\n",
    "            self.pairs_file = \\\n",
    "                './data/s2/verification_pairs_test.txt'\n",
    "\n",
    "        with open(self.pairs_file) as f:\n",
    "            self.pairs = [l.rstrip().split() for l in f]\n",
    "\n",
    "        if sample is not None:\n",
    "            sample = np.array(sample)\n",
    "            sample.sort(axis=0)\n",
    "            self.pairs = [self.pairs[i] for i in sample]            \n",
    "   \n",
    "    def __len__(self): return len(self.pairs)\n",
    "\n",
    "    def __getitem__(self, idx):\n",
    "        \n",
    "        trans_list = [transforms.ToTensor(),\n",
    "                          transforms.Normalize(mean=[0.485, 0.456, 0.406],\n",
    "                                               std=[0.229, 0.224, 0.225])]\n",
    "        \n",
    "        preprocess = transforms.Compose(trans_list)\n",
    "        \n",
    "        image_tensor_0 = Image.open(os.path.join(self.data_dir,self.pairs[idx][0]))\n",
    "        image_tensor_1 = Image.open(os.path.join(self.data_dir,self.pairs[idx][1]))\n",
    "        image_tensor_0 = preprocess(image_tensor_0)\n",
    "        image_tensor_1 = preprocess(image_tensor_1)\n",
    "        if self.mode == 'test': \n",
    "            return image_tensor_0, image_tensor_1\n",
    "        else: \n",
    "            return image_tensor_0, image_tensor_1, int(self.pairs[idx][2])"
   ]
  },
  {
   "cell_type": "markdown",
   "metadata": {},
   "source": [
    "## Visualization of original dataset"
   ]
  },
  {
   "cell_type": "code",
   "execution_count": 7,
   "metadata": {},
   "outputs": [
    {
     "name": "stdout",
     "output_type": "stream",
     "text": [
      "batch_x.shape torch.Size([4, 3, 80, 80])\n",
      "batch_y.shape torch.Size([4])\n"
     ]
    },
    {
     "data": {
      "image/png": "[encoded data removed]",
      "text/plain": [
       "<Figure size 432x288 with 4 Axes>"
      ]
     },
     "metadata": {
      "needs_background": "light"
     },
     "output_type": "display_data"
    }
   ],
   "source": [
    "no_transf = [transforms.ToTensor(),\n",
    "             transforms.Resize(80),\n",
    "             #transforms.RandomCrop(64),\n",
    "             #transforms.RandomHorizontalFlip(),\n",
    "             #transforms.Normalize(mean=[0.485, 0.456, 0.406],\n",
    "             #                     std=[0.229, 0.224, 0.225])\n",
    "             ]\n",
    "dataset = FaceClassificationDataset(trans_list=no_transf, mode='train')\n",
    "dataloader = DataLoader(dataset, shuffle=False, batch_size=4, num_workers=0, drop_last=True)\n",
    "\n",
    "batch_x, batch_y = next(iter(dataloader))\n",
    "print(\"batch_x.shape\", batch_x.shape)\n",
    "print(\"batch_y.shape\", batch_y.shape)\n",
    "\n",
    "fig, axs = plt.subplots(2,2)\n",
    "axs[0,0].imshow(batch_x[0,:,:,:].permute(1, 2, 0))\n",
    "axs[0,0].set_title(f'Person {batch_y[0]}')\n",
    "\n",
    "axs[0,1].imshow(batch_x[1,:,:,:].permute(1, 2, 0))\n",
    "axs[0,1].set_title(f'Person {batch_y[1]}')\n",
    "\n",
    "axs[1,0].imshow(batch_x[2,:,:,:].permute(1, 2, 0))\n",
    "axs[1,0].set_title(f'Person {batch_y[2]}')\n",
    "\n",
    "axs[1,1].imshow(batch_x[3,:,:,:].permute(1, 2, 0))\n",
    "axs[1,1].set_title(f'Person {batch_y[3]}')\n",
    "fig.tight_layout()\n",
    "plt.savefig('./results/original_dataset.png')\n",
    "plt.show()"
   ]
  },
  {
   "cell_type": "markdown",
   "metadata": {},
   "source": [
    "### Visualization of training dataset"
   ]
  },
  {
   "cell_type": "code",
   "execution_count": null,
   "metadata": {},
   "outputs": [],
   "source": [
    "normalize_transf = [transforms.Resize(80),\n",
    "                    transforms.RandomCrop(64),\n",
    "                    transforms.RandomHorizontalFlip(),\n",
    "                    transforms.ToTensor(),\n",
    "                    transforms.Normalize(mean=[0.485, 0.456, 0.406],\n",
    "                                         std=[0.229, 0.224, 0.225])]\n",
    "dataset = FaceClassificationDataset(trans_list=normalize_transf, mode='train')\n",
    "dataloader = DataLoader(dataset, shuffle=True, batch_size=4, num_workers=0, drop_last=True)\n",
    "\n",
    "batch_x, batch_y = next(iter(dataloader))\n",
    "print(\"batch_x.shape\", batch_x.shape)\n",
    "print(\"batch_y.shape\", batch_y.shape)\n",
    "\n",
    "fig, axs = plt.subplots(2,2)\n",
    "axs[0,0].imshow(batch_x[0,:,:,:].permute(1, 2, 0))\n",
    "axs[0,0].set_title(f'Person {batch_y[0]}')\n",
    "\n",
    "axs[0,1].imshow(batch_x[1,:,:,:].permute(1, 2, 0))\n",
    "axs[0,1].set_title(f'Person {batch_y[1]}')\n",
    "\n",
    "axs[1,0].imshow(batch_x[2,:,:,:].permute(1, 2, 0))\n",
    "axs[1,0].set_title(f'Person {batch_y[2]}')\n",
    "\n",
    "axs[1,1].imshow(batch_x[3,:,:,:].permute(1, 2, 0))\n",
    "axs[1,1].set_title(f'Person {batch_y[3]}')\n",
    "fig.tight_layout()\n",
    "plt.savefig('./results/train_dataset.png')\n",
    "plt.show()\n",
    "\n",
    "# Distribution plot\n",
    "pixels = batch_x[0,:,:,:].flatten().flatten()\n",
    "sample = np.random.choice(range(len(pixels)), 1000)\n",
    "\n",
    "fig, ax = plt.subplots(1, tight_layout=True)\n",
    "ax.hist(pixels[sample])\n",
    "plt.show()"
   ]
  },
  {
   "cell_type": "code",
   "execution_count": null,
   "metadata": {},
   "outputs": [],
   "source": [
    "#export\n",
    "def create_dataloaders(mc):\n",
    "    num_workers = 8 if torch.cuda.is_available() else 0\n",
    "\n",
    "    train_dataset = FaceClassificationDataset(n_labels=mc['n_classes'], mode='train')\n",
    "    clf_dataset   = FaceClassificationDataset(n_labels=mc['n_classes'], mode='val')\n",
    "    vrf_dataset   = FaceVerificationDataset(n_labels=mc['n_classes'], mode='val')\n",
    "\n",
    "    print(f'n_train: {len(train_dataset)}, n_clf: {len(clf_dataset)}, n_vrf: {len(vrf_dataset)}')\n",
    "\n",
    "    train_loader = DataLoader(train_dataset, \n",
    "                              shuffle=True, \n",
    "                              batch_size=mc['batch_size'], \n",
    "                              num_workers=num_workers, \n",
    "                              pin_memory=torch.cuda.is_available(),\n",
    "                              drop_last=True)\n",
    "    clf_loader = DataLoader(val_c_dataset, \n",
    "                            shuffle=False, \n",
    "                            batch_size=mc['batch_size'], \n",
    "                            num_workers=num_workers, \n",
    "                            pin_memory=torch.cuda.is_available(),\n",
    "                            drop_last=True)\n",
    "    vrf_loader = DataLoader(val_v_dataset, \n",
    "                            shuffle=False, \n",
    "                            batch_size=mc['batch_size'], \n",
    "                            num_workers=num_workers, \n",
    "                            pin_memory=torch.cuda.is_available(),\n",
    "                            drop_last=True)\n",
    "    \n",
    "    assert len(train_loader) > 0\n",
    "    assert len(val_c_loader) > 0\n",
    "    assert len(val_v_loader) > 0\n",
    "    \n",
    "    return train_loader, clf_loader, vrf_loader"
   ]
  },
  {
   "cell_type": "markdown",
   "metadata": {},
   "source": [
    "# HYPERPARAMETER OPTIMIZATION"
   ]
  },
  {
   "cell_type": "code",
   "execution_count": 5,
   "metadata": {},
   "outputs": [],
   "source": [
    "#export\n",
    "def main(model, sample_size=4000, max_evals=20):\n",
    "    # Hyperparameters space\n",
    "    space = {'model': hp.choice(label='model', options=[model]),\n",
    "             'in_channels': hp.choice(label='in_channels', options=[3]),\n",
    "             'n_classes': hp.choice(label='n_classes', options=[4000]),\n",
    "             'batch_size': scope.int(hp.choice(label='batch_size', options=[2048])),\n",
    "             'lr': hp.loguniform(label='lr', low=np.log(5e-3), high=np.log(5e-2)),\n",
    "             'lr_decay': hp.choice(label='lr_decay', options=[0.5]),\n",
    "             'n_lr_decay_steps': hp.choice(label='n_lr_decay_steps', options=[3]),\n",
    "             'center_loss': hp.choice(label='center_loss', options=[True]),\n",
    "             'lr_cl': hp.loguniform(label='lr_cl', low=np.log(5e-3), high=np.log(2e-1)),\n",
    "             'alpha_cl': hp.choice(label='alpha_cl', options=[0.01, 0.1, 1]),\n",
    "             'n_epochs': hp.choice(label='n_epochs', options=[1000]),\n",
    "             'eval_epochs': scope.int(hp.choice(label='eval_epochs', options=[4])),\n",
    "             'random_seed': scope.int(hp.quniform('random_seed', 1, 10, 1)),\n",
    "             }\n",
    "\n",
    "    train_loader, clf_loader, vrf_loader = create_dataloaders(mc)\n",
    "\n",
    "    # Hyperparameters search\n",
    "    trials = Trials()\n",
    "    fmin_objective = partial(fit_predict, trials=trials, verbose=True, sample_size=sample_size)\n",
    "    best = fmin(fmin_objective, space=space, algo=tpe.suggest, max_evals=max_evals, trials=trials)\n",
    "    \n",
    "    keys = ['loss','val_c_loss','train_c_acc','val_c_acc','val_v_acc','run_time','trajectories']\n",
    "    \n",
    "    best_class = trials.results[np.argmax([r['val_c_acc'] for r in trials.results])]  \n",
    "    best_class_res_dict = {key: best_class[key] for key in keys}\n",
    "    best_class_model = best_class['model']\n",
    "    best_class_mc = best_class['mc']\n",
    "    best_class_time_stamp = best_class['time_stamp']\n",
    "    \n",
    "    s = 'hw2p2' + '_' + best_class_time_stamp\n",
    "    filename = f'./results/{s}.pth'\n",
    "    \n",
    "    json_mc = json.dumps(best_class_mc)\n",
    "    with open(f'./results/mc_{best_class_time_stamp}.json', 'w') as bfm: \n",
    "        bfm.write(json_mc)  \n",
    "    json_res = json.dumps(best_class_res_dict)\n",
    "    with open(f'./results/res_dict_{best_class_time_stamp}.json', 'w') as bfm: \n",
    "        bfm.write(json_res)  \n",
    "        \n",
    "    torch.save(best_class_model.model.state_dict(), filename)\n",
    "\n",
    "    best_ver = trials.results[np.argmax([r['val_v_acc'] for r in trials.results])]\n",
    "    best_ver_res_dict = {key: best_ver[key] for key in keys}\n",
    "    best_ver_model = best_ver['model']\n",
    "    best_ver_mc = best_ver['mc']\n",
    "    best_ver_time_stamp = best_ver['time_stamp']\n",
    "    \n",
    "    s = 'hw2p2' + '_' + best_ver_time_stamp\n",
    "    filename = f'./results/{s}.pth'\n",
    "    \n",
    "    json_mc = json.dumps(best_ver_mc)\n",
    "    with open(f'./results/mc_{best_ver_time_stamp}.json', 'w') as bfm: \n",
    "        bfm.write(json_mc) \n",
    "    json_res = json.dumps(best_ver_res_dict)\n",
    "    with open(f'./results/res_dict_{best_ver_time_stamp}.json', 'w') as bfm: \n",
    "        bfm.write(json_res)  \n",
    "        \n",
    "    torch.save(best_ver_model.model.state_dict(), filename)\n"
   ]
  },
  {
   "cell_type": "code",
   "execution_count": 6,
   "metadata": {},
   "outputs": [
    {
     "data": {
      "text/plain": [
       "'/home/ubuntu/hw2p2'"
      ]
     },
     "execution_count": 6,
     "metadata": {},
     "output_type": "execute_result"
    }
   ],
   "source": [
    "os.getcwd()\n",
    "# os.chdir('..')"
   ]
  },
  {
   "cell_type": "code",
   "execution_count": 7,
   "metadata": {},
   "outputs": [
    {
     "name": "stdout",
     "output_type": "stream",
     "text": [
      "                                                      \n",
      "Current directory: /home/ubuntu/hw2p2\n",
      "\n",
      "18-03-21_16-54-06                                     \n",
      "==========================                            \n",
      "alpha_cl                   1                          \n",
      "batch_size              2048\n",
      "center_loss             True\n",
      "eval_steps                 4\n",
      "in_channels                3\n",
      "lr                  0.005307\n",
      "lr_cl               0.016201\n",
      "lr_decay                 0.5\n",
      "model               resnet18\n",
      "n_classes               3000\n",
      "n_epochs                1000\n",
      "n_lr_decay_steps           3\n",
      "dtype: object\n",
      "==========================                            \n",
      "\n",
      "train_dataset_len: 285327, val_c_dataset_len: 6000, val_v_dataset_len: 3000\n",
      "==============================Start Fitting==============================\n",
      "epoch: 0 train_loss: 529.4289 train_c_acc: 0.04% val_c_loss: 522.5351 val_c_acc: 0.02% val_v_acc: 63.70% \n",
      "epoch: 4 train_loss: 511.6295 train_c_acc: 0.04% val_c_loss: 520.4347 val_c_acc: 0.07% val_v_acc: 73.71% \n",
      "epoch: 8 train_loss: 504.5949 train_c_acc: 0.04% val_c_loss: 520.979 val_c_acc: 0.02% val_v_acc: 73.44% \n",
      "epoch: 12 train_loss: 497.8418 train_c_acc: 0.04% val_c_loss: 520.7688 val_c_acc: 0.00% val_v_acc: 73.64% \n",
      "epoch: 16 train_loss: 491.2527 train_c_acc: 0.04% val_c_loss: 520.0746 val_c_acc: 0.00% val_v_acc: 73.88% \n",
      "epoch: 20 train_loss: 484.7856 train_c_acc: 0.04% val_c_loss: 520.8719 val_c_acc: 0.00% val_v_acc: 73.80% \n",
      "epoch: 24 train_loss: 478.4167 train_c_acc: 0.04% val_c_loss: 520.9821 val_c_acc: 0.00% val_v_acc: 73.73% \n",
      "  0%|          | 0/20 [26:11<?, ?trial/s, best loss=?]\n"
     ]
    },
    {
     "ename": "KeyboardInterrupt",
     "evalue": "",
     "output_type": "error",
     "traceback": [
      "\u001b[0;31m---------------------------------------------------------------------------\u001b[0m",
      "\u001b[0;31mKeyboardInterrupt\u001b[0m                         Traceback (most recent call last)",
      "\u001b[0;32m<ipython-input-7-5aca8da38797>\u001b[0m in \u001b[0;36m<module>\u001b[0;34m\u001b[0m\n\u001b[1;32m      1\u001b[0m \u001b[0;31m#export\u001b[0m\u001b[0;34m\u001b[0m\u001b[0;34m\u001b[0m\u001b[0;34m\u001b[0m\u001b[0m\n\u001b[1;32m      2\u001b[0m \u001b[0;32mif\u001b[0m \u001b[0m__name__\u001b[0m \u001b[0;34m==\u001b[0m \u001b[0;34m\"__main__\"\u001b[0m\u001b[0;34m:\u001b[0m\u001b[0;34m\u001b[0m\u001b[0;34m\u001b[0m\u001b[0m\n\u001b[0;32m----> 3\u001b[0;31m     \u001b[0mmain\u001b[0m\u001b[0;34m(\u001b[0m\u001b[0mmodel\u001b[0m\u001b[0;34m=\u001b[0m\u001b[0;34m'resnet18'\u001b[0m\u001b[0;34m,\u001b[0m \u001b[0msample_size\u001b[0m\u001b[0;34m=\u001b[0m\u001b[0;36m3000\u001b[0m\u001b[0;34m,\u001b[0m \u001b[0mmax_evals\u001b[0m\u001b[0;34m=\u001b[0m\u001b[0;36m20\u001b[0m\u001b[0;34m)\u001b[0m\u001b[0;34m\u001b[0m\u001b[0;34m\u001b[0m\u001b[0m\n\u001b[0m",
      "\u001b[0;32m<ipython-input-5-e3c9fb6b72d6>\u001b[0m in \u001b[0;36mmain\u001b[0;34m(model, sample_size, max_evals)\u001b[0m\n\u001b[1;32m     24\u001b[0m     \u001b[0mtrials\u001b[0m \u001b[0;34m=\u001b[0m \u001b[0mTrials\u001b[0m\u001b[0;34m(\u001b[0m\u001b[0;34m)\u001b[0m\u001b[0;34m\u001b[0m\u001b[0;34m\u001b[0m\u001b[0m\n\u001b[1;32m     25\u001b[0m     \u001b[0mfmin_objective\u001b[0m \u001b[0;34m=\u001b[0m \u001b[0mpartial\u001b[0m\u001b[0;34m(\u001b[0m\u001b[0mfit_predict\u001b[0m\u001b[0;34m,\u001b[0m \u001b[0mtrials\u001b[0m\u001b[0;34m=\u001b[0m\u001b[0mtrials\u001b[0m\u001b[0;34m,\u001b[0m \u001b[0mverbose\u001b[0m\u001b[0;34m=\u001b[0m\u001b[0;32mTrue\u001b[0m\u001b[0;34m,\u001b[0m \u001b[0msample_size\u001b[0m\u001b[0;34m=\u001b[0m\u001b[0msample_size\u001b[0m\u001b[0;34m)\u001b[0m\u001b[0;34m\u001b[0m\u001b[0;34m\u001b[0m\u001b[0m\n\u001b[0;32m---> 26\u001b[0;31m     \u001b[0mbest\u001b[0m \u001b[0;34m=\u001b[0m \u001b[0mfmin\u001b[0m\u001b[0;34m(\u001b[0m\u001b[0mfmin_objective\u001b[0m\u001b[0;34m,\u001b[0m \u001b[0mspace\u001b[0m\u001b[0;34m=\u001b[0m\u001b[0mspace\u001b[0m\u001b[0;34m,\u001b[0m \u001b[0malgo\u001b[0m\u001b[0;34m=\u001b[0m\u001b[0mtpe\u001b[0m\u001b[0;34m.\u001b[0m\u001b[0msuggest\u001b[0m\u001b[0;34m,\u001b[0m \u001b[0mmax_evals\u001b[0m\u001b[0;34m=\u001b[0m\u001b[0mmax_evals\u001b[0m\u001b[0;34m,\u001b[0m \u001b[0mtrials\u001b[0m\u001b[0;34m=\u001b[0m\u001b[0mtrials\u001b[0m\u001b[0;34m)\u001b[0m\u001b[0;34m\u001b[0m\u001b[0;34m\u001b[0m\u001b[0m\n\u001b[0m\u001b[1;32m     27\u001b[0m \u001b[0;34m\u001b[0m\u001b[0m\n\u001b[1;32m     28\u001b[0m     \u001b[0mkeys\u001b[0m \u001b[0;34m=\u001b[0m \u001b[0;34m[\u001b[0m\u001b[0;34m'loss'\u001b[0m\u001b[0;34m,\u001b[0m\u001b[0;34m'val_c_loss'\u001b[0m\u001b[0;34m,\u001b[0m\u001b[0;34m'train_c_acc'\u001b[0m\u001b[0;34m,\u001b[0m\u001b[0;34m'val_c_acc'\u001b[0m\u001b[0;34m,\u001b[0m\u001b[0;34m'val_v_acc'\u001b[0m\u001b[0;34m,\u001b[0m\u001b[0;34m'run_time'\u001b[0m\u001b[0;34m,\u001b[0m\u001b[0;34m'trajectories'\u001b[0m\u001b[0;34m]\u001b[0m\u001b[0;34m\u001b[0m\u001b[0;34m\u001b[0m\u001b[0m\n",
      "\u001b[0;32m~/anaconda3/envs/idl_ubuntu/lib/python3.7/site-packages/hyperopt/fmin.py\u001b[0m in \u001b[0;36mfmin\u001b[0;34m(fn, space, algo, max_evals, timeout, loss_threshold, trials, rstate, allow_trials_fmin, pass_expr_memo_ctrl, catch_eval_exceptions, verbose, return_argmin, points_to_evaluate, max_queue_len, show_progressbar, early_stop_fn, trials_save_file)\u001b[0m\n\u001b[1;32m    520\u001b[0m             \u001b[0mshow_progressbar\u001b[0m\u001b[0;34m=\u001b[0m\u001b[0mshow_progressbar\u001b[0m\u001b[0;34m,\u001b[0m\u001b[0;34m\u001b[0m\u001b[0;34m\u001b[0m\u001b[0m\n\u001b[1;32m    521\u001b[0m             \u001b[0mearly_stop_fn\u001b[0m\u001b[0;34m=\u001b[0m\u001b[0mearly_stop_fn\u001b[0m\u001b[0;34m,\u001b[0m\u001b[0;34m\u001b[0m\u001b[0;34m\u001b[0m\u001b[0m\n\u001b[0;32m--> 522\u001b[0;31m             \u001b[0mtrials_save_file\u001b[0m\u001b[0;34m=\u001b[0m\u001b[0mtrials_save_file\u001b[0m\u001b[0;34m,\u001b[0m\u001b[0;34m\u001b[0m\u001b[0;34m\u001b[0m\u001b[0m\n\u001b[0m\u001b[1;32m    523\u001b[0m         )\n\u001b[1;32m    524\u001b[0m \u001b[0;34m\u001b[0m\u001b[0m\n",
      "\u001b[0;32m~/anaconda3/envs/idl_ubuntu/lib/python3.7/site-packages/hyperopt/base.py\u001b[0m in \u001b[0;36mfmin\u001b[0;34m(self, fn, space, algo, max_evals, timeout, loss_threshold, max_queue_len, rstate, verbose, pass_expr_memo_ctrl, catch_eval_exceptions, return_argmin, show_progressbar, early_stop_fn, trials_save_file)\u001b[0m\n\u001b[1;32m    697\u001b[0m             \u001b[0mshow_progressbar\u001b[0m\u001b[0;34m=\u001b[0m\u001b[0mshow_progressbar\u001b[0m\u001b[0;34m,\u001b[0m\u001b[0;34m\u001b[0m\u001b[0;34m\u001b[0m\u001b[0m\n\u001b[1;32m    698\u001b[0m             \u001b[0mearly_stop_fn\u001b[0m\u001b[0;34m=\u001b[0m\u001b[0mearly_stop_fn\u001b[0m\u001b[0;34m,\u001b[0m\u001b[0;34m\u001b[0m\u001b[0;34m\u001b[0m\u001b[0m\n\u001b[0;32m--> 699\u001b[0;31m             \u001b[0mtrials_save_file\u001b[0m\u001b[0;34m=\u001b[0m\u001b[0mtrials_save_file\u001b[0m\u001b[0;34m,\u001b[0m\u001b[0;34m\u001b[0m\u001b[0;34m\u001b[0m\u001b[0m\n\u001b[0m\u001b[1;32m    700\u001b[0m         )\n\u001b[1;32m    701\u001b[0m \u001b[0;34m\u001b[0m\u001b[0m\n",
      "\u001b[0;32m~/anaconda3/envs/idl_ubuntu/lib/python3.7/site-packages/hyperopt/fmin.py\u001b[0m in \u001b[0;36mfmin\u001b[0;34m(fn, space, algo, max_evals, timeout, loss_threshold, trials, rstate, allow_trials_fmin, pass_expr_memo_ctrl, catch_eval_exceptions, verbose, return_argmin, points_to_evaluate, max_queue_len, show_progressbar, early_stop_fn, trials_save_file)\u001b[0m\n\u001b[1;32m    551\u001b[0m \u001b[0;34m\u001b[0m\u001b[0m\n\u001b[1;32m    552\u001b[0m     \u001b[0;31m# next line is where the fmin is actually executed\u001b[0m\u001b[0;34m\u001b[0m\u001b[0;34m\u001b[0m\u001b[0;34m\u001b[0m\u001b[0m\n\u001b[0;32m--> 553\u001b[0;31m     \u001b[0mrval\u001b[0m\u001b[0;34m.\u001b[0m\u001b[0mexhaust\u001b[0m\u001b[0;34m(\u001b[0m\u001b[0;34m)\u001b[0m\u001b[0;34m\u001b[0m\u001b[0;34m\u001b[0m\u001b[0m\n\u001b[0m\u001b[1;32m    554\u001b[0m \u001b[0;34m\u001b[0m\u001b[0m\n\u001b[1;32m    555\u001b[0m     \u001b[0;32mif\u001b[0m \u001b[0mreturn_argmin\u001b[0m\u001b[0;34m:\u001b[0m\u001b[0;34m\u001b[0m\u001b[0;34m\u001b[0m\u001b[0m\n",
      "\u001b[0;32m~/anaconda3/envs/idl_ubuntu/lib/python3.7/site-packages/hyperopt/fmin.py\u001b[0m in \u001b[0;36mexhaust\u001b[0;34m(self)\u001b[0m\n\u001b[1;32m    354\u001b[0m     \u001b[0;32mdef\u001b[0m \u001b[0mexhaust\u001b[0m\u001b[0;34m(\u001b[0m\u001b[0mself\u001b[0m\u001b[0;34m)\u001b[0m\u001b[0;34m:\u001b[0m\u001b[0;34m\u001b[0m\u001b[0;34m\u001b[0m\u001b[0m\n\u001b[1;32m    355\u001b[0m         \u001b[0mn_done\u001b[0m \u001b[0;34m=\u001b[0m \u001b[0mlen\u001b[0m\u001b[0;34m(\u001b[0m\u001b[0mself\u001b[0m\u001b[0;34m.\u001b[0m\u001b[0mtrials\u001b[0m\u001b[0;34m)\u001b[0m\u001b[0;34m\u001b[0m\u001b[0;34m\u001b[0m\u001b[0m\n\u001b[0;32m--> 356\u001b[0;31m         \u001b[0mself\u001b[0m\u001b[0;34m.\u001b[0m\u001b[0mrun\u001b[0m\u001b[0;34m(\u001b[0m\u001b[0mself\u001b[0m\u001b[0;34m.\u001b[0m\u001b[0mmax_evals\u001b[0m \u001b[0;34m-\u001b[0m \u001b[0mn_done\u001b[0m\u001b[0;34m,\u001b[0m \u001b[0mblock_until_done\u001b[0m\u001b[0;34m=\u001b[0m\u001b[0mself\u001b[0m\u001b[0;34m.\u001b[0m\u001b[0masynchronous\u001b[0m\u001b[0;34m)\u001b[0m\u001b[0;34m\u001b[0m\u001b[0;34m\u001b[0m\u001b[0m\n\u001b[0m\u001b[1;32m    357\u001b[0m         \u001b[0mself\u001b[0m\u001b[0;34m.\u001b[0m\u001b[0mtrials\u001b[0m\u001b[0;34m.\u001b[0m\u001b[0mrefresh\u001b[0m\u001b[0;34m(\u001b[0m\u001b[0;34m)\u001b[0m\u001b[0;34m\u001b[0m\u001b[0;34m\u001b[0m\u001b[0m\n\u001b[1;32m    358\u001b[0m         \u001b[0;32mreturn\u001b[0m \u001b[0mself\u001b[0m\u001b[0;34m\u001b[0m\u001b[0;34m\u001b[0m\u001b[0m\n",
      "\u001b[0;32m~/anaconda3/envs/idl_ubuntu/lib/python3.7/site-packages/hyperopt/fmin.py\u001b[0m in \u001b[0;36mrun\u001b[0;34m(self, N, block_until_done)\u001b[0m\n\u001b[1;32m    290\u001b[0m                 \u001b[0;32melse\u001b[0m\u001b[0;34m:\u001b[0m\u001b[0;34m\u001b[0m\u001b[0;34m\u001b[0m\u001b[0m\n\u001b[1;32m    291\u001b[0m                     \u001b[0;31m# -- loop over trials and do the jobs directly\u001b[0m\u001b[0;34m\u001b[0m\u001b[0;34m\u001b[0m\u001b[0;34m\u001b[0m\u001b[0m\n\u001b[0;32m--> 292\u001b[0;31m                     \u001b[0mself\u001b[0m\u001b[0;34m.\u001b[0m\u001b[0mserial_evaluate\u001b[0m\u001b[0;34m(\u001b[0m\u001b[0;34m)\u001b[0m\u001b[0;34m\u001b[0m\u001b[0;34m\u001b[0m\u001b[0m\n\u001b[0m\u001b[1;32m    293\u001b[0m \u001b[0;34m\u001b[0m\u001b[0m\n\u001b[1;32m    294\u001b[0m                 \u001b[0mself\u001b[0m\u001b[0;34m.\u001b[0m\u001b[0mtrials\u001b[0m\u001b[0;34m.\u001b[0m\u001b[0mrefresh\u001b[0m\u001b[0;34m(\u001b[0m\u001b[0;34m)\u001b[0m\u001b[0;34m\u001b[0m\u001b[0;34m\u001b[0m\u001b[0m\n",
      "\u001b[0;32m~/anaconda3/envs/idl_ubuntu/lib/python3.7/site-packages/hyperopt/fmin.py\u001b[0m in \u001b[0;36mserial_evaluate\u001b[0;34m(self, N)\u001b[0m\n\u001b[1;32m    168\u001b[0m                 \u001b[0mctrl\u001b[0m \u001b[0;34m=\u001b[0m \u001b[0mbase\u001b[0m\u001b[0;34m.\u001b[0m\u001b[0mCtrl\u001b[0m\u001b[0;34m(\u001b[0m\u001b[0mself\u001b[0m\u001b[0;34m.\u001b[0m\u001b[0mtrials\u001b[0m\u001b[0;34m,\u001b[0m \u001b[0mcurrent_trial\u001b[0m\u001b[0;34m=\u001b[0m\u001b[0mtrial\u001b[0m\u001b[0;34m)\u001b[0m\u001b[0;34m\u001b[0m\u001b[0;34m\u001b[0m\u001b[0m\n\u001b[1;32m    169\u001b[0m                 \u001b[0;32mtry\u001b[0m\u001b[0;34m:\u001b[0m\u001b[0;34m\u001b[0m\u001b[0;34m\u001b[0m\u001b[0m\n\u001b[0;32m--> 170\u001b[0;31m                     \u001b[0mresult\u001b[0m \u001b[0;34m=\u001b[0m \u001b[0mself\u001b[0m\u001b[0;34m.\u001b[0m\u001b[0mdomain\u001b[0m\u001b[0;34m.\u001b[0m\u001b[0mevaluate\u001b[0m\u001b[0;34m(\u001b[0m\u001b[0mspec\u001b[0m\u001b[0;34m,\u001b[0m \u001b[0mctrl\u001b[0m\u001b[0;34m)\u001b[0m\u001b[0;34m\u001b[0m\u001b[0;34m\u001b[0m\u001b[0m\n\u001b[0m\u001b[1;32m    171\u001b[0m                 \u001b[0;32mexcept\u001b[0m \u001b[0mException\u001b[0m \u001b[0;32mas\u001b[0m \u001b[0me\u001b[0m\u001b[0;34m:\u001b[0m\u001b[0;34m\u001b[0m\u001b[0;34m\u001b[0m\u001b[0m\n\u001b[1;32m    172\u001b[0m                     \u001b[0mlogger\u001b[0m\u001b[0;34m.\u001b[0m\u001b[0merror\u001b[0m\u001b[0;34m(\u001b[0m\u001b[0;34m\"job exception: %s\"\u001b[0m \u001b[0;34m%\u001b[0m \u001b[0mstr\u001b[0m\u001b[0;34m(\u001b[0m\u001b[0me\u001b[0m\u001b[0;34m)\u001b[0m\u001b[0;34m)\u001b[0m\u001b[0;34m\u001b[0m\u001b[0;34m\u001b[0m\u001b[0m\n",
      "\u001b[0;32m~/anaconda3/envs/idl_ubuntu/lib/python3.7/site-packages/hyperopt/base.py\u001b[0m in \u001b[0;36mevaluate\u001b[0;34m(self, config, ctrl, attach_attachments)\u001b[0m\n\u001b[1;32m    905\u001b[0m                 \u001b[0mprint_node_on_error\u001b[0m\u001b[0;34m=\u001b[0m\u001b[0mself\u001b[0m\u001b[0;34m.\u001b[0m\u001b[0mrec_eval_print_node_on_error\u001b[0m\u001b[0;34m,\u001b[0m\u001b[0;34m\u001b[0m\u001b[0;34m\u001b[0m\u001b[0m\n\u001b[1;32m    906\u001b[0m             )\n\u001b[0;32m--> 907\u001b[0;31m             \u001b[0mrval\u001b[0m \u001b[0;34m=\u001b[0m \u001b[0mself\u001b[0m\u001b[0;34m.\u001b[0m\u001b[0mfn\u001b[0m\u001b[0;34m(\u001b[0m\u001b[0mpyll_rval\u001b[0m\u001b[0;34m)\u001b[0m\u001b[0;34m\u001b[0m\u001b[0;34m\u001b[0m\u001b[0m\n\u001b[0m\u001b[1;32m    908\u001b[0m \u001b[0;34m\u001b[0m\u001b[0m\n\u001b[1;32m    909\u001b[0m         \u001b[0;32mif\u001b[0m \u001b[0misinstance\u001b[0m\u001b[0;34m(\u001b[0m\u001b[0mrval\u001b[0m\u001b[0;34m,\u001b[0m \u001b[0;34m(\u001b[0m\u001b[0mfloat\u001b[0m\u001b[0;34m,\u001b[0m \u001b[0mint\u001b[0m\u001b[0;34m,\u001b[0m \u001b[0mnp\u001b[0m\u001b[0;34m.\u001b[0m\u001b[0mnumber\u001b[0m\u001b[0;34m)\u001b[0m\u001b[0;34m)\u001b[0m\u001b[0;34m:\u001b[0m\u001b[0;34m\u001b[0m\u001b[0;34m\u001b[0m\u001b[0m\n",
      "\u001b[0;32m~/hw2p2/hw2p2/hyperoptimization.py\u001b[0m in \u001b[0;36mfit_predict\u001b[0;34m(mc, verbose, trials, sample_size)\u001b[0m\n\u001b[1;32m    119\u001b[0m     model.fit(train_loader=train_loader,\n\u001b[1;32m    120\u001b[0m               \u001b[0mval_c_loader\u001b[0m\u001b[0;34m=\u001b[0m\u001b[0mval_c_loader\u001b[0m\u001b[0;34m,\u001b[0m\u001b[0;34m\u001b[0m\u001b[0;34m\u001b[0m\u001b[0m\n\u001b[0;32m--> 121\u001b[0;31m               val_v_loader=val_v_loader)\n\u001b[0m\u001b[1;32m    122\u001b[0m \u001b[0;34m\u001b[0m\u001b[0m\n\u001b[1;32m    123\u001b[0m     \u001b[0;32mif\u001b[0m \u001b[0mtrials\u001b[0m \u001b[0;32mis\u001b[0m \u001b[0;32mnot\u001b[0m \u001b[0;32mNone\u001b[0m\u001b[0;34m:\u001b[0m\u001b[0;34m\u001b[0m\u001b[0;34m\u001b[0m\u001b[0m\n",
      "\u001b[0;32m~/hw2p2/hw2p2/models/resnet.py\u001b[0m in \u001b[0;36mfit\u001b[0;34m(self, train_loader, val_c_loader, val_v_loader)\u001b[0m\n\u001b[1;32m    430\u001b[0m             \u001b[0mtrain_total_predictions\u001b[0m \u001b[0;34m=\u001b[0m \u001b[0;36m0\u001b[0m\u001b[0;34m\u001b[0m\u001b[0;34m\u001b[0m\u001b[0m\n\u001b[1;32m    431\u001b[0m \u001b[0;34m\u001b[0m\u001b[0m\n\u001b[0;32m--> 432\u001b[0;31m             \u001b[0;32mfor\u001b[0m \u001b[0mbatch_idx\u001b[0m\u001b[0;34m,\u001b[0m \u001b[0;34m(\u001b[0m\u001b[0mimg\u001b[0m\u001b[0;34m,\u001b[0m \u001b[0mlabel\u001b[0m\u001b[0;34m)\u001b[0m \u001b[0;32min\u001b[0m \u001b[0menumerate\u001b[0m\u001b[0;34m(\u001b[0m\u001b[0mtrain_loader\u001b[0m\u001b[0;34m)\u001b[0m\u001b[0;34m:\u001b[0m\u001b[0;34m\u001b[0m\u001b[0;34m\u001b[0m\u001b[0m\n\u001b[0m\u001b[1;32m    433\u001b[0m                 \u001b[0mimg\u001b[0m \u001b[0;34m=\u001b[0m \u001b[0mimg\u001b[0m\u001b[0;34m.\u001b[0m\u001b[0mto\u001b[0m\u001b[0;34m(\u001b[0m\u001b[0mself\u001b[0m\u001b[0;34m.\u001b[0m\u001b[0mdevice\u001b[0m\u001b[0;34m)\u001b[0m\u001b[0;34m\u001b[0m\u001b[0;34m\u001b[0m\u001b[0m\n\u001b[1;32m    434\u001b[0m                 \u001b[0mlabel\u001b[0m \u001b[0;34m=\u001b[0m \u001b[0mlabel\u001b[0m\u001b[0;34m.\u001b[0m\u001b[0mto\u001b[0m\u001b[0;34m(\u001b[0m\u001b[0mself\u001b[0m\u001b[0;34m.\u001b[0m\u001b[0mdevice\u001b[0m\u001b[0;34m)\u001b[0m\u001b[0;34m\u001b[0m\u001b[0;34m\u001b[0m\u001b[0m\n",
      "\u001b[0;32m~/anaconda3/envs/idl_ubuntu/lib/python3.7/site-packages/torch/utils/data/dataloader.py\u001b[0m in \u001b[0;36m__next__\u001b[0;34m(self)\u001b[0m\n\u001b[1;32m    515\u001b[0m             \u001b[0;32mif\u001b[0m \u001b[0mself\u001b[0m\u001b[0;34m.\u001b[0m\u001b[0m_sampler_iter\u001b[0m \u001b[0;32mis\u001b[0m \u001b[0;32mNone\u001b[0m\u001b[0;34m:\u001b[0m\u001b[0;34m\u001b[0m\u001b[0;34m\u001b[0m\u001b[0m\n\u001b[1;32m    516\u001b[0m                 \u001b[0mself\u001b[0m\u001b[0;34m.\u001b[0m\u001b[0m_reset\u001b[0m\u001b[0;34m(\u001b[0m\u001b[0;34m)\u001b[0m\u001b[0;34m\u001b[0m\u001b[0;34m\u001b[0m\u001b[0m\n\u001b[0;32m--> 517\u001b[0;31m             \u001b[0mdata\u001b[0m \u001b[0;34m=\u001b[0m \u001b[0mself\u001b[0m\u001b[0;34m.\u001b[0m\u001b[0m_next_data\u001b[0m\u001b[0;34m(\u001b[0m\u001b[0;34m)\u001b[0m\u001b[0;34m\u001b[0m\u001b[0;34m\u001b[0m\u001b[0m\n\u001b[0m\u001b[1;32m    518\u001b[0m             \u001b[0mself\u001b[0m\u001b[0;34m.\u001b[0m\u001b[0m_num_yielded\u001b[0m \u001b[0;34m+=\u001b[0m \u001b[0;36m1\u001b[0m\u001b[0;34m\u001b[0m\u001b[0;34m\u001b[0m\u001b[0m\n\u001b[1;32m    519\u001b[0m             \u001b[0;32mif\u001b[0m \u001b[0mself\u001b[0m\u001b[0;34m.\u001b[0m\u001b[0m_dataset_kind\u001b[0m \u001b[0;34m==\u001b[0m \u001b[0m_DatasetKind\u001b[0m\u001b[0;34m.\u001b[0m\u001b[0mIterable\u001b[0m \u001b[0;32mand\u001b[0m\u001b[0;31m \u001b[0m\u001b[0;31m\\\u001b[0m\u001b[0;34m\u001b[0m\u001b[0;34m\u001b[0m\u001b[0m\n",
      "\u001b[0;32m~/anaconda3/envs/idl_ubuntu/lib/python3.7/site-packages/torch/utils/data/dataloader.py\u001b[0m in \u001b[0;36m_next_data\u001b[0;34m(self)\u001b[0m\n\u001b[1;32m   1180\u001b[0m \u001b[0;34m\u001b[0m\u001b[0m\n\u001b[1;32m   1181\u001b[0m             \u001b[0;32massert\u001b[0m \u001b[0;32mnot\u001b[0m \u001b[0mself\u001b[0m\u001b[0;34m.\u001b[0m\u001b[0m_shutdown\u001b[0m \u001b[0;32mand\u001b[0m \u001b[0mself\u001b[0m\u001b[0;34m.\u001b[0m\u001b[0m_tasks_outstanding\u001b[0m \u001b[0;34m>\u001b[0m \u001b[0;36m0\u001b[0m\u001b[0;34m\u001b[0m\u001b[0;34m\u001b[0m\u001b[0m\n\u001b[0;32m-> 1182\u001b[0;31m             \u001b[0midx\u001b[0m\u001b[0;34m,\u001b[0m \u001b[0mdata\u001b[0m \u001b[0;34m=\u001b[0m \u001b[0mself\u001b[0m\u001b[0;34m.\u001b[0m\u001b[0m_get_data\u001b[0m\u001b[0;34m(\u001b[0m\u001b[0;34m)\u001b[0m\u001b[0;34m\u001b[0m\u001b[0;34m\u001b[0m\u001b[0m\n\u001b[0m\u001b[1;32m   1183\u001b[0m             \u001b[0mself\u001b[0m\u001b[0;34m.\u001b[0m\u001b[0m_tasks_outstanding\u001b[0m \u001b[0;34m-=\u001b[0m \u001b[0;36m1\u001b[0m\u001b[0;34m\u001b[0m\u001b[0;34m\u001b[0m\u001b[0m\n\u001b[1;32m   1184\u001b[0m             \u001b[0;32mif\u001b[0m \u001b[0mself\u001b[0m\u001b[0;34m.\u001b[0m\u001b[0m_dataset_kind\u001b[0m \u001b[0;34m==\u001b[0m \u001b[0m_DatasetKind\u001b[0m\u001b[0;34m.\u001b[0m\u001b[0mIterable\u001b[0m\u001b[0;34m:\u001b[0m\u001b[0;34m\u001b[0m\u001b[0;34m\u001b[0m\u001b[0m\n",
      "\u001b[0;32m~/anaconda3/envs/idl_ubuntu/lib/python3.7/site-packages/torch/utils/data/dataloader.py\u001b[0m in \u001b[0;36m_get_data\u001b[0;34m(self)\u001b[0m\n\u001b[1;32m   1136\u001b[0m         \u001b[0;32melif\u001b[0m \u001b[0mself\u001b[0m\u001b[0;34m.\u001b[0m\u001b[0m_pin_memory\u001b[0m\u001b[0;34m:\u001b[0m\u001b[0;34m\u001b[0m\u001b[0;34m\u001b[0m\u001b[0m\n\u001b[1;32m   1137\u001b[0m             \u001b[0;32mwhile\u001b[0m \u001b[0mself\u001b[0m\u001b[0;34m.\u001b[0m\u001b[0m_pin_memory_thread\u001b[0m\u001b[0;34m.\u001b[0m\u001b[0mis_alive\u001b[0m\u001b[0;34m(\u001b[0m\u001b[0;34m)\u001b[0m\u001b[0;34m:\u001b[0m\u001b[0;34m\u001b[0m\u001b[0;34m\u001b[0m\u001b[0m\n\u001b[0;32m-> 1138\u001b[0;31m                 \u001b[0msuccess\u001b[0m\u001b[0;34m,\u001b[0m \u001b[0mdata\u001b[0m \u001b[0;34m=\u001b[0m \u001b[0mself\u001b[0m\u001b[0;34m.\u001b[0m\u001b[0m_try_get_data\u001b[0m\u001b[0;34m(\u001b[0m\u001b[0;34m)\u001b[0m\u001b[0;34m\u001b[0m\u001b[0;34m\u001b[0m\u001b[0m\n\u001b[0m\u001b[1;32m   1139\u001b[0m                 \u001b[0;32mif\u001b[0m \u001b[0msuccess\u001b[0m\u001b[0;34m:\u001b[0m\u001b[0;34m\u001b[0m\u001b[0;34m\u001b[0m\u001b[0m\n\u001b[1;32m   1140\u001b[0m                     \u001b[0;32mreturn\u001b[0m \u001b[0mdata\u001b[0m\u001b[0;34m\u001b[0m\u001b[0;34m\u001b[0m\u001b[0m\n",
      "\u001b[0;32m~/anaconda3/envs/idl_ubuntu/lib/python3.7/site-packages/torch/utils/data/dataloader.py\u001b[0m in \u001b[0;36m_try_get_data\u001b[0;34m(self, timeout)\u001b[0m\n\u001b[1;32m    984\u001b[0m         \u001b[0;31m#   (bool: whether successfully get data, any: data if successful else None)\u001b[0m\u001b[0;34m\u001b[0m\u001b[0;34m\u001b[0m\u001b[0;34m\u001b[0m\u001b[0m\n\u001b[1;32m    985\u001b[0m         \u001b[0;32mtry\u001b[0m\u001b[0;34m:\u001b[0m\u001b[0;34m\u001b[0m\u001b[0;34m\u001b[0m\u001b[0m\n\u001b[0;32m--> 986\u001b[0;31m             \u001b[0mdata\u001b[0m \u001b[0;34m=\u001b[0m \u001b[0mself\u001b[0m\u001b[0;34m.\u001b[0m\u001b[0m_data_queue\u001b[0m\u001b[0;34m.\u001b[0m\u001b[0mget\u001b[0m\u001b[0;34m(\u001b[0m\u001b[0mtimeout\u001b[0m\u001b[0;34m=\u001b[0m\u001b[0mtimeout\u001b[0m\u001b[0;34m)\u001b[0m\u001b[0;34m\u001b[0m\u001b[0;34m\u001b[0m\u001b[0m\n\u001b[0m\u001b[1;32m    987\u001b[0m             \u001b[0;32mreturn\u001b[0m \u001b[0;34m(\u001b[0m\u001b[0;32mTrue\u001b[0m\u001b[0;34m,\u001b[0m \u001b[0mdata\u001b[0m\u001b[0;34m)\u001b[0m\u001b[0;34m\u001b[0m\u001b[0;34m\u001b[0m\u001b[0m\n\u001b[1;32m    988\u001b[0m         \u001b[0;32mexcept\u001b[0m \u001b[0mException\u001b[0m \u001b[0;32mas\u001b[0m \u001b[0me\u001b[0m\u001b[0;34m:\u001b[0m\u001b[0;34m\u001b[0m\u001b[0;34m\u001b[0m\u001b[0m\n",
      "\u001b[0;32m~/anaconda3/envs/idl_ubuntu/lib/python3.7/queue.py\u001b[0m in \u001b[0;36mget\u001b[0;34m(self, block, timeout)\u001b[0m\n\u001b[1;32m    177\u001b[0m                     \u001b[0;32mif\u001b[0m \u001b[0mremaining\u001b[0m \u001b[0;34m<=\u001b[0m \u001b[0;36m0.0\u001b[0m\u001b[0;34m:\u001b[0m\u001b[0;34m\u001b[0m\u001b[0;34m\u001b[0m\u001b[0m\n\u001b[1;32m    178\u001b[0m                         \u001b[0;32mraise\u001b[0m \u001b[0mEmpty\u001b[0m\u001b[0;34m\u001b[0m\u001b[0;34m\u001b[0m\u001b[0m\n\u001b[0;32m--> 179\u001b[0;31m                     \u001b[0mself\u001b[0m\u001b[0;34m.\u001b[0m\u001b[0mnot_empty\u001b[0m\u001b[0;34m.\u001b[0m\u001b[0mwait\u001b[0m\u001b[0;34m(\u001b[0m\u001b[0mremaining\u001b[0m\u001b[0;34m)\u001b[0m\u001b[0;34m\u001b[0m\u001b[0;34m\u001b[0m\u001b[0m\n\u001b[0m\u001b[1;32m    180\u001b[0m             \u001b[0mitem\u001b[0m \u001b[0;34m=\u001b[0m \u001b[0mself\u001b[0m\u001b[0;34m.\u001b[0m\u001b[0m_get\u001b[0m\u001b[0;34m(\u001b[0m\u001b[0;34m)\u001b[0m\u001b[0;34m\u001b[0m\u001b[0;34m\u001b[0m\u001b[0m\n\u001b[1;32m    181\u001b[0m             \u001b[0mself\u001b[0m\u001b[0;34m.\u001b[0m\u001b[0mnot_full\u001b[0m\u001b[0;34m.\u001b[0m\u001b[0mnotify\u001b[0m\u001b[0;34m(\u001b[0m\u001b[0;34m)\u001b[0m\u001b[0;34m\u001b[0m\u001b[0;34m\u001b[0m\u001b[0m\n",
      "\u001b[0;32m~/anaconda3/envs/idl_ubuntu/lib/python3.7/threading.py\u001b[0m in \u001b[0;36mwait\u001b[0;34m(self, timeout)\u001b[0m\n\u001b[1;32m    298\u001b[0m             \u001b[0;32melse\u001b[0m\u001b[0;34m:\u001b[0m\u001b[0;34m\u001b[0m\u001b[0;34m\u001b[0m\u001b[0m\n\u001b[1;32m    299\u001b[0m                 \u001b[0;32mif\u001b[0m \u001b[0mtimeout\u001b[0m \u001b[0;34m>\u001b[0m \u001b[0;36m0\u001b[0m\u001b[0;34m:\u001b[0m\u001b[0;34m\u001b[0m\u001b[0;34m\u001b[0m\u001b[0m\n\u001b[0;32m--> 300\u001b[0;31m                     \u001b[0mgotit\u001b[0m \u001b[0;34m=\u001b[0m \u001b[0mwaiter\u001b[0m\u001b[0;34m.\u001b[0m\u001b[0macquire\u001b[0m\u001b[0;34m(\u001b[0m\u001b[0;32mTrue\u001b[0m\u001b[0;34m,\u001b[0m \u001b[0mtimeout\u001b[0m\u001b[0;34m)\u001b[0m\u001b[0;34m\u001b[0m\u001b[0;34m\u001b[0m\u001b[0m\n\u001b[0m\u001b[1;32m    301\u001b[0m                 \u001b[0;32melse\u001b[0m\u001b[0;34m:\u001b[0m\u001b[0;34m\u001b[0m\u001b[0;34m\u001b[0m\u001b[0m\n\u001b[1;32m    302\u001b[0m                     \u001b[0mgotit\u001b[0m \u001b[0;34m=\u001b[0m \u001b[0mwaiter\u001b[0m\u001b[0;34m.\u001b[0m\u001b[0macquire\u001b[0m\u001b[0;34m(\u001b[0m\u001b[0;32mFalse\u001b[0m\u001b[0;34m)\u001b[0m\u001b[0;34m\u001b[0m\u001b[0;34m\u001b[0m\u001b[0m\n",
      "\u001b[0;31mKeyboardInterrupt\u001b[0m: "
     ]
    }
   ],
   "source": [
    "#export\n",
    "if __name__ == \"__main__\":\n",
    "    main(model='resnet18', sample_size=3000, max_evals=20)"
   ]
  },
  {
   "cell_type": "code",
   "execution_count": 8,
   "metadata": {},
   "outputs": [
    {
     "data": {
      "text/plain": [
       "'/home/ubuntu/hw2p2'"
      ]
     },
     "execution_count": 8,
     "metadata": {},
     "output_type": "execute_result"
    }
   ],
   "source": [
    "os.getcwd()"
   ]
  },
  {
   "cell_type": "code",
   "execution_count": null,
   "metadata": {},
   "outputs": [],
   "source": [
    "import json\n",
    "\n",
    "model_mc_file = './results/mc_17-03-21_23-28-42.json'\n",
    "with open(model_mc_file) as f: mc = json.load(f)\n",
    "model_mc_file = './results/res_dict_17-03-21_23-28-42.json'\n",
    "with open(model_mc_file) as f: res = json.load(f)\n",
    "model_file = './results/hw2p2_17-03-21_23-28-42.pth'\n",
    "\n",
    "model = ResNetN(18,\n",
    "                in_channels=mc['in_channels'],\n",
    "                n_classes=mc['n_classes'],\n",
    "                lr=mc['lr'],\n",
    "                lr_decay=mc['lr_decay'],\n",
    "                n_lr_decay_steps=mc['n_lr_decay_steps'],\n",
    "                center_loss = mc['center_loss'],\n",
    "                lr_cl=mc['lr_cl'],\n",
    "                alpha_cl=mc['alpha_cl'],\n",
    "                n_epochs=mc['n_epochs'],\n",
    "                eval_steps=mc['eval_steps'])\n",
    "\n",
    "model.model.load_state_dict(torch.load(model_file))"
   ]
  },
  {
   "cell_type": "code",
   "execution_count": null,
   "metadata": {},
   "outputs": [],
   "source": [
    "print(res)\n",
    "print(mc)"
   ]
  },
  {
   "cell_type": "code",
   "execution_count": null,
   "metadata": {},
   "outputs": [
    {
     "data": {
      "text/plain": [
       "<All keys matched successfully>"
      ]
     },
     "execution_count": null,
     "metadata": {},
     "output_type": "execute_result"
    }
   ],
   "source": [
    "model_mc_file = './results/mc_17-03-21_23-28-57.json'\n",
    "with open(model_mc_file) as f: mc = json.load(f)\n",
    "model_mc_file = './results/res_dict_17-03-21_23-28-57.json'\n",
    "with open(model_mc_file) as f: res = json.load(f)\n",
    "model_file = './results/hw2p2_17-03-21_23-28-57.pth'\n",
    "\n",
    "model = ResNetN(18,\n",
    "                in_channels=mc['in_channels'],\n",
    "                n_classes=mc['n_classes'],\n",
    "                lr=mc['lr'],\n",
    "                lr_decay=mc['lr_decay'],\n",
    "                n_lr_decay_steps=mc['n_lr_decay_steps'],\n",
    "                center_loss = mc['center_loss'],\n",
    "                lr_cl=mc['lr_cl'],\n",
    "                alpha_cl=mc['alpha_cl'],\n",
    "                n_epochs=mc['n_epochs'],\n",
    "                eval_steps=mc['eval_steps'])\n",
    "\n",
    "model.model.load_state_dict(torch.load(model_file))"
   ]
  },
  {
   "cell_type": "code",
   "execution_count": null,
   "metadata": {},
   "outputs": [
    {
     "name": "stdout",
     "output_type": "stream",
     "text": [
      "{'loss': -1.0, 'val_c_loss': -1, 'train_c_acc': 0.10276442307692307, 'val_c_acc': 0.125, 'val_v_acc': 0.47619047619047616, 'run_time': 14.389012336730957, 'trajectories': {'epoch': [0, 4], 'train_loss': [7.035186199041513, 5.624412055198963], 'train_c_acc': [0.09254807692307693, 0.10276442307692307], 'val_c_loss': [12.188202381134033, 12.305235862731934], 'val_c_acc': [0.125, 0.125], 'val_v_acc': [0.47619047619047616, 0.47619047619047616]}}\n",
      "{'alpha_cl': 0.01, 'batch_size': 16, 'center_loss': True, 'eval_steps': 4, 'in_channels': 3, 'lr': 0.029865896744795523, 'lr_cl': 0.15374739504606688, 'lr_decay': 0.5, 'model': 'resnet18', 'n_classes': 20, 'n_epochs': 5, 'n_lr_decay_steps': 3}\n"
     ]
    }
   ],
   "source": [
    "print(res)\n",
    "print(mc)"
   ]
  },
  {
   "cell_type": "code",
   "execution_count": 8,
   "metadata": {},
   "outputs": [
    {
     "data": {
      "text/plain": [
       "array([2, 4, 3, 1, 9, 5, 8, 0, 7, 6])"
      ]
     },
     "execution_count": 8,
     "metadata": {},
     "output_type": "execute_result"
    }
   ],
   "source": [
    "arr = np.arange(10)\n",
    "np.random.shuffle(arr)\n",
    "arr"
   ]
  },
  {
   "cell_type": "code",
   "execution_count": null,
   "metadata": {},
   "outputs": [],
   "source": []
  }
 ],
 "metadata": {
  "kernelspec": {
   "display_name": "Environment (conda_idl_ubuntu)",
   "language": "python",
   "name": "conda_idl_ubuntu"
  },
  "language_info": {
   "codemirror_mode": {
    "name": "ipython",
    "version": 3
   },
   "file_extension": ".py",
   "mimetype": "text/x-python",
   "name": "python",
   "nbconvert_exporter": "python",
   "pygments_lexer": "ipython3",
   "version": "3.7.10"
  }
 },
 "nbformat": 4,
 "nbformat_minor": 4
}
