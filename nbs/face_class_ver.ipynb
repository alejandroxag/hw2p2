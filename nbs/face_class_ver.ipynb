{
 "cells": [
  {
   "cell_type": "code",
   "execution_count": null,
   "metadata": {},
   "outputs": [],
   "source": [
    "# default_exp face_class_ver"
   ]
  },
  {
   "cell_type": "code",
   "execution_count": null,
   "metadata": {},
   "outputs": [],
   "source": [
    "#hide\n",
    "%load_ext autoreload\n",
    "%autoreload 2"
   ]
  },
  {
   "cell_type": "code",
   "execution_count": null,
   "metadata": {},
   "outputs": [],
   "source": [
    "#export\n",
    "# imports\n",
    "import numpy as np\n",
    "import torch\n",
    "import torch.nn as nn\n",
    "from torch.utils.data import Dataset, DataLoader\n",
    "import torchvision\n",
    "from PIL import Image\n",
    "from torch.nn.functional import cosine_similarity, adaptive_avg_pool2d\n",
    "from torch.optim import Adam, SGD\n",
    "from torch.optim.lr_scheduler import StepLR\n",
    "from sklearn.metrics import roc_auc_score\n",
    "import pandas as pd\n",
    "from functools import partial\n",
    "from hyperopt import fmin, tpe, hp, Trials, STATUS_OK\n",
    "from hyperopt.pyll.base import scope\n",
    "import json\n",
    "from datetime import datetime\n",
    "import os\n",
    "import time\n",
    "\n",
    "from datasets import FaceClassificationDataset, FaceVerificationDataset\n",
    "from losses import CenterLoss\n",
    "from models import _BottleNeck, _MobileNetV2, MobileNetV2\n",
    "from hyperoptimization import fit_predict\n",
    "# from axa_hw2p2.datasets import FaceClassificationDataset, FaceVerificationDataset\n",
    "# from axa_hw2p2.losses import CenterLoss\n",
    "# from axa_hw2p2.models import _BottleNeck, _MobileNetV2, MobileNetV2\n",
    "# from axa_hw2p2.hyperoptimization import fit_predict"
   ]
  },
  {
   "cell_type": "code",
   "execution_count": null,
   "metadata": {},
   "outputs": [],
   "source": [
    "#export\n",
    "def main():\n",
    "\n",
    "    # Hyperparameters space\n",
    "\n",
    "    space = {'n_in_ch_bn': hp.choice(label='n_in_ch_bn', options=[3]),\n",
    "             'ls_out_ch_bn': hp.choice(label='ls_out_ch_bn', \n",
    "                                       options=[[16, 24, 32, 64, 96, 160, 320]]),\n",
    "             'ls_n_rep_bn': hp.choice(label='ls_n_rep_bn', \n",
    "                                       options=[[1, 2, 3, 4, 3, 3, 1]]),\n",
    "             'ls_stride_bn': hp.choice(label='ls_stride_bn', \n",
    "                                       options=[[1, 2, 2, 2, 1, 2, 1]]),\n",
    "             'ls_exp_fct_t_bn': hp.choice(label='ls_exp_fct_t_bn', \n",
    "                                          options=[[1, 6, 6, 6, 6, 6, 6]]),\n",
    "             'n_embeddings': hp.choice(label='n_embeddings', options=[1280]),\n",
    "             'n_classes': hp.choice(label='n_classes', options=[100]),\n",
    "             'batch_size': scope.int(hp.choice(label='batch_size', options=[64])),\n",
    "             'lr': hp.loguniform(label='lr', low=np.log(5e-4), high=np.log(0.1)),\n",
    "             'lr_decay': hp.choice(label='lr_decay', options=[0.98,0.99,1]),\n",
    "             'n_lr_decay_steps': hp.choice(label='n_lr_decay_steps', options=[1,2,4]),\n",
    "             'center_loss': hp.choice(label='center_loss', options=[True]),\n",
    "             'lr_cl': hp.choice(label='lr_cl', options=[0.5]),\n",
    "             'alpha_cl': hp.choice(label='alpha_cl', options=[0.01,0.1,1]),\n",
    "             'n_epochs': hp.choice(label='n_epochs', options=[25]),\n",
    "             'eval_steps': scope.int(hp.choice(label='eval_steps', options=[4])),}\n",
    "\n",
    "    # space = {'n_in_ch_bn': hp.choice(label='n_in_ch_bn', options=[3]),\n",
    "    #          'ls_out_ch_bn': hp.choice(label='ls_out_ch_bn', \n",
    "    #                                    options=[[16, 24, 32, 64, 96, 160, 320]]),\n",
    "    #          'ls_n_rep_bn': hp.choice(label='ls_n_rep_bn', \n",
    "    #                                    options=[[1, 2, 3, 4, 3, 3, 1]]),\n",
    "    #          'ls_stride_bn': hp.choice(label='ls_stride_bn', \n",
    "    #                                    options=[[1, 2, 2, 2, 1, 2, 1]]),\n",
    "    #          'ls_exp_fct_t_bn': hp.choice(label='ls_exp_fct_t_bn', \n",
    "    #                                       options=[[1, 6, 6, 6, 6, 6, 6]]),\n",
    "    #          'n_embeddings': hp.choice(label='n_embeddings', options=[1280]),\n",
    "    #          'n_classes': hp.choice(label='n_classes', options=[4000]),\n",
    "    #          'batch_size': scope.int(hp.choice(label='batch_size', options=[512])),\n",
    "    #          'lr': hp.loguniform(label='lr', low=np.log(5e-4), high=np.log(0.1)),\n",
    "    #          'lr_decay': hp.choice(label='lr_decay', options=[1]),\n",
    "    #          'n_lr_decay_steps': hp.choice(label='n_lr_decay_steps', options=[1,2,4]),\n",
    "    #          'center_loss': hp.choice(label='center_loss', options=[True]),\n",
    "    #          'lr_cl': hp.choice(label='lr_cl', options=[0.5]),\n",
    "    #          'alpha_cl': hp.choice(label='alpha_cl', options=[0.01,0.1,1]),\n",
    "    #          'n_epochs': hp.choice(label='n_epochs', options=[25]),\n",
    "    #          'eval_steps': scope.int(hp.choice(label='eval_steps', options=[4])),}\n",
    "\n",
    "    # Hyperparameters search\n",
    "    trials = Trials()\n",
    "    fmin_objective = partial(fit_predict, trials=trials, verbose=True)\n",
    "    fmin(fmin_objective, space=space, \n",
    "         algo=tpe.suggest, max_evals=20, trials=trials)"
   ]
  },
  {
   "cell_type": "code",
   "execution_count": null,
   "metadata": {},
   "outputs": [],
   "source": [
    "#export\n",
    "if __name__ == \"__main__\": \n",
    "    # os.chdir('nbs')\n",
    "    main()"
   ]
  },
  {
   "cell_type": "code",
   "execution_count": null,
   "metadata": {},
   "outputs": [],
   "source": []
  }
 ],
 "metadata": {
  "kernelspec": {
   "display_name": "idl_ubuntu",
   "language": "python",
   "name": "idl_ubuntu"
  }
 },
 "nbformat": 4,
 "nbformat_minor": 2
}
