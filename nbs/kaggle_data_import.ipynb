{
 "cells": [
  {
   "cell_type": "code",
   "execution_count": null,
   "metadata": {},
   "outputs": [],
   "source": [
    "# default_exp kaggle_data_setup"
   ]
  },
  {
   "cell_type": "code",
   "execution_count": null,
   "metadata": {},
   "outputs": [],
   "source": [
    "#hide\n",
    "%load_ext autoreload\n",
    "%autoreload 2"
   ]
  },
  {
   "cell_type": "markdown",
   "metadata": {},
   "source": [
    "# Kaggle data setup\n",
    "\n",
    "Execute this script once to retrieve data from Kaggle"
   ]
  },
  {
   "cell_type": "code",
   "execution_count": null,
   "metadata": {},
   "outputs": [],
   "source": [
    "#export\n",
    "# !pip install Kaggle\n",
    "# %cd ../.kaggle/\n",
    "# !pwd"
   ]
  },
  {
   "cell_type": "code",
   "execution_count": null,
   "metadata": {},
   "outputs": [],
   "source": [
    "#export\n",
    "# Credentials\n",
    "\n",
    "# import json\n",
    "# token = {\"username\":\"alejandroxag\",\"key\":\"c36bca85da2adb89b094f2f02902a5db\"}\n",
    "# print(token)\n",
    "# with open('kaggle.json', 'w') as file:\n",
    "#     json.dump(token, file)"
   ]
  },
  {
   "cell_type": "code",
   "execution_count": null,
   "metadata": {},
   "outputs": [],
   "source": [
    "#export\n",
    "# %cd .."
   ]
  },
  {
   "cell_type": "code",
   "execution_count": null,
   "metadata": {},
   "outputs": [],
   "source": [
    "#export\n",
    "# Connection setup\n",
    "\n",
    "# !chmod 600 .kaggle/kaggle.json\n",
    "# !cp .kaggle/kaggle.json /home/alejandroxag/.kaggle/\n",
    "# !kaggle config set -n path -v nbs/data"
   ]
  },
  {
   "cell_type": "code",
   "execution_count": null,
   "metadata": {},
   "outputs": [],
   "source": [
    "#export\n",
    "# !kaggle competitions download -c 11785-spring2021-hw2p2s1-face-classification"
   ]
  },
  {
   "cell_type": "code",
   "execution_count": null,
   "metadata": {},
   "outputs": [],
   "source": [
    "#export\n",
    "# !kaggle competitions download -c 11785-spring2021-hw2p2s2-face-verification"
   ]
  },
  {
   "cell_type": "code",
   "execution_count": null,
   "metadata": {},
   "outputs": [],
   "source": [
    "#export\n",
    "# Data unziping\n",
    "\n",
    "from zipfile import ZipFile\n",
    "\n",
    "# with ZipFile('nbs/data/competitions/11785-spring2021-hw2p2s1-face-classification/11785-spring2021-hw2p2s1-face-classification.zip', ) as zf: zf.extractall(path='nbs/data/s1')\n",
    "\n",
    "# with ZipFile('nbs/data/competitions/11785-spring2021-hw2p2s2-face-verification/11785-spring2021-hw2p2s2-face-verification.zip', ) as zf: zf.extractall(path='nbs/data/s2')\n"
   ]
  }
 ],
 "metadata": {
  "kernelspec": {
   "display_name": "idl_ubuntu",
   "language": "python",
   "name": "idl_ubuntu"
  }
 },
 "nbformat": 4,
 "nbformat_minor": 2
}
