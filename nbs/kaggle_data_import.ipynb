{
 "cells": [
  {
   "cell_type": "code",
   "execution_count": null,
   "metadata": {},
   "outputs": [],
   "source": [
    "# default_exp kaggle_data_setup"
   ]
  },
  {
   "cell_type": "code",
   "execution_count": null,
   "metadata": {},
   "outputs": [],
   "source": [
    "#hide\n",
    "%load_ext autoreload\n",
    "%autoreload 2"
   ]
  },
  {
   "cell_type": "markdown",
   "metadata": {},
   "source": [
    "# Kaggle data setup\n",
    "\n",
    "Execute this script once to retrieve data from Kaggle"
   ]
  },
  {
   "cell_type": "code",
   "execution_count": null,
   "metadata": {},
   "outputs": [
    {
     "name": "stdout",
     "output_type": "stream",
     "text": [
      "/home/alejandroxag/myfiles/deeplearning/hw2p2/nbs\n",
      "/home/alejandroxag/myfiles/deeplearning/hw2p2\n"
     ]
    }
   ],
   "source": [
    "!pwd\n",
    "%cd .."
   ]
  },
  {
   "cell_type": "code",
   "execution_count": null,
   "metadata": {},
   "outputs": [],
   "source": [
    "!pip install Kaggle\n",
    "%cd /.kaggle/\n",
    "!pwd"
   ]
  },
  {
   "cell_type": "code",
   "execution_count": null,
   "metadata": {},
   "outputs": [],
   "source": [
    "# Credentials\n",
    "\n",
    "import json\n",
    "token = {\"username\":\"alejandroxag\",\"key\":\"c36bca85da2adb89b094f2f02902a5db\"}\n",
    "print(token)\n",
    "with open('kaggle.json', 'w') as file:\n",
    "    json.dump(token, file)"
   ]
  },
  {
   "cell_type": "code",
   "execution_count": null,
   "metadata": {},
   "outputs": [
    {
     "name": "stdout",
     "output_type": "stream",
     "text": [
      "- path is now set to: ./data\n"
     ]
    }
   ],
   "source": [
    "# Connection setup\n",
    "\n",
    "!chmod 600 .kaggle/kaggle.json\n",
    "!cp .kaggle/kaggle.json /home/alejandroxag/.kaggle/\n",
    "!kaggle config set -n path -v ./data"
   ]
  },
  {
   "cell_type": "code",
   "execution_count": null,
   "metadata": {},
   "outputs": [
    {
     "name": "stdout",
     "output_type": "stream",
     "text": [
      "Downloading 11785-spring2021-hw2p2s1-face-classification.zip to ./data/competitions/11785-spring2021-hw2p2s1-face-classification\n",
      "100%|████████████████████████████████████████| 586M/586M [01:10<00:00, 13.7MB/s]\n",
      "100%|████████████████████████████████████████| 586M/586M [01:10<00:00, 8.66MB/s]\n"
     ]
    }
   ],
   "source": [
    "!kaggle competitions download -c 11785-spring2021-hw2p2s1-face-classification"
   ]
  },
  {
   "cell_type": "code",
   "execution_count": null,
   "metadata": {},
   "outputs": [
    {
     "name": "stdout",
     "output_type": "stream",
     "text": [
      "Downloading 11785-spring2021-hw2p2s2-face-verification.zip to ./data/competitions/11785-spring2021-hw2p2s2-face-verification\n",
      "100%|███████████████████████████████████████▊| 103M/103M [00:37<00:00, 2.69MB/s]\n",
      "100%|████████████████████████████████████████| 103M/103M [00:37<00:00, 2.93MB/s]\n"
     ]
    }
   ],
   "source": [
    "!kaggle competitions download -c 11785-spring2021-hw2p2s2-face-verification"
   ]
  },
  {
   "cell_type": "code",
   "execution_count": null,
   "metadata": {},
   "outputs": [],
   "source": [
    "#export\n",
    "# Data unziping\n",
    "\n",
    "import os\n",
    "from zipfile import ZipFile\n",
    "\n",
    "print(os.getcwd())\n",
    "\n",
    "with ZipFile('./data/competitions/11785-spring2021-hw2p2s1-face-classification/11785-spring2021-hw2p2s1-face-classification.zip', ) as zf: zf.extractall(path='./data/s1')\n",
    "\n",
    "with ZipFile('./data/competitions/11785-spring2021-hw2p2s2-face-verification/11785-spring2021-hw2p2s2-face-verification.zip', ) as zf: zf.extractall(path='./data/s2')\n"
   ]
  }
 ],
 "metadata": {
  "kernelspec": {
   "display_name": "idl_ubuntu",
   "language": "python",
   "name": "idl_ubuntu"
  }
 },
 "nbformat": 4,
 "nbformat_minor": 2
}
