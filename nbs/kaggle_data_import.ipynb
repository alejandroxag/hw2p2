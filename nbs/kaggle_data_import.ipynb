{
 "cells": [
  {
   "cell_type": "code",
   "execution_count": null,
   "metadata": {},
   "outputs": [],
   "source": [
    "# default_exp kaggle_data_setup"
   ]
  },
  {
   "cell_type": "code",
   "execution_count": null,
   "metadata": {},
   "outputs": [],
   "source": [
    "#hide\n",
    "%load_ext autoreload\n",
    "%autoreload 2"
   ]
  },
  {
   "cell_type": "markdown",
   "metadata": {},
   "source": [
    "# Kaggle data setup\n",
    "\n",
    "Execute this script once to retrieve data from Kaggle"
   ]
  },
  {
   "cell_type": "code",
   "execution_count": null,
   "metadata": {},
   "outputs": [
    {
     "name": "stdout",
     "output_type": "stream",
     "text": [
      "/home/ubuntu/hw2p2/nbs\n",
      "/home/ubuntu/hw2p2\n"
     ]
    }
   ],
   "source": [
    "!pwd\n",
    "%cd .."
   ]
  },
  {
   "cell_type": "code",
   "execution_count": null,
   "metadata": {},
   "outputs": [
    {
     "name": "stdout",
     "output_type": "stream",
     "text": [
      "Collecting Kaggle\n",
      "  Downloading kaggle-1.5.12.tar.gz (58 kB)\n",
      "\u001b[K     |████████████████████████████████| 58 kB 5.8 MB/s  eta 0:00:01\n",
      "\u001b[?25hRequirement already satisfied: six>=1.10 in /home/ubuntu/anaconda3/envs/idl_ubuntu/lib/python3.7/site-packages (from Kaggle) (1.15.0)\n",
      "Requirement already satisfied: certifi in /home/ubuntu/anaconda3/envs/idl_ubuntu/lib/python3.7/site-packages (from Kaggle) (2020.12.5)\n",
      "Requirement already satisfied: python-dateutil in /home/ubuntu/anaconda3/envs/idl_ubuntu/lib/python3.7/site-packages (from Kaggle) (2.8.1)\n",
      "Requirement already satisfied: requests in /home/ubuntu/anaconda3/envs/idl_ubuntu/lib/python3.7/site-packages (from Kaggle) (2.25.1)\n",
      "Requirement already satisfied: tqdm in /home/ubuntu/anaconda3/envs/idl_ubuntu/lib/python3.7/site-packages (from Kaggle) (4.59.0)\n",
      "Collecting python-slugify\n",
      "  Downloading python-slugify-4.0.1.tar.gz (11 kB)\n",
      "Requirement already satisfied: urllib3 in /home/ubuntu/anaconda3/envs/idl_ubuntu/lib/python3.7/site-packages (from Kaggle) (1.26.3)\n",
      "Collecting text-unidecode>=1.3\n",
      "  Downloading text_unidecode-1.3-py2.py3-none-any.whl (78 kB)\n",
      "\u001b[K     |████████████████████████████████| 78 kB 9.8 MB/s  eta 0:00:01\n",
      "\u001b[?25hRequirement already satisfied: chardet<5,>=3.0.2 in /home/ubuntu/anaconda3/envs/idl_ubuntu/lib/python3.7/site-packages (from requests->Kaggle) (4.0.0)\n",
      "Requirement already satisfied: idna<3,>=2.5 in /home/ubuntu/anaconda3/envs/idl_ubuntu/lib/python3.7/site-packages (from requests->Kaggle) (2.10)\n",
      "Building wheels for collected packages: Kaggle, python-slugify\n",
      "  Building wheel for Kaggle (setup.py) ... \u001b[?25ldone\n",
      "\u001b[?25h  Created wheel for Kaggle: filename=kaggle-1.5.12-py3-none-any.whl size=73053 sha256=114285fb4a2469777be4473b579f122281b316a6ce115b3730dee2672bed159e\n",
      "  Stored in directory: /home/ubuntu/.cache/pip/wheels/62/d6/58/5853130f941e75b2177d281eb7e44b4a98ed46dd155f556dc5\n",
      "  Building wheel for python-slugify (setup.py) ... \u001b[?25ldone\n",
      "\u001b[?25h  Created wheel for python-slugify: filename=python_slugify-4.0.1-py2.py3-none-any.whl size=6769 sha256=5967de964b5c3528b736c633f7f05cff7220b8f695406757149d2577f1fbe2fa\n",
      "  Stored in directory: /home/ubuntu/.cache/pip/wheels/48/1b/6f/5c1cfab22eacbe0095fc619786da6571b55253653c71324b5c\n",
      "Successfully built Kaggle python-slugify\n",
      "Installing collected packages: text-unidecode, python-slugify, Kaggle\n",
      "Successfully installed Kaggle-1.5.12 python-slugify-4.0.1 text-unidecode-1.3\n",
      "[Errno 2] No such file or directory: '/.kaggle/'\n",
      "/home/ubuntu/hw2p2\n",
      "/home/ubuntu/hw2p2\n"
     ]
    }
   ],
   "source": [
    "!pip install Kaggle\n",
    "%cd /.kaggle/\n",
    "!pwd"
   ]
  },
  {
   "cell_type": "code",
   "execution_count": null,
   "metadata": {},
   "outputs": [
    {
     "name": "stdout",
     "output_type": "stream",
     "text": [
      "{'username': 'alejandroxag', 'key': 'c36bca85da2adb89b094f2f02902a5db'}\n"
     ]
    }
   ],
   "source": [
    "# Credentials\n",
    "\n",
    "import json\n",
    "token = {\"username\":\"alejandroxag\",\"key\":\"c36bca85da2adb89b094f2f02902a5db\"}\n",
    "print(token)\n",
    "with open('kaggle.json', 'w') as file:\n",
    "    json.dump(token, file)"
   ]
  },
  {
   "cell_type": "code",
   "execution_count": null,
   "metadata": {},
   "outputs": [
    {
     "name": "stdout",
     "output_type": "stream",
     "text": [
      "cp: cannot create regular file '/home/alejandroxag/.kaggle/': No such file or directory\n",
      "Traceback (most recent call last):\n",
      "  File \"/home/ubuntu/anaconda3/envs/idl_ubuntu/bin/kaggle\", line 5, in <module>\n",
      "    from kaggle.cli import main\n",
      "  File \"/home/ubuntu/anaconda3/envs/idl_ubuntu/lib/python3.7/site-packages/kaggle/__init__.py\", line 23, in <module>\n",
      "    api.authenticate()\n",
      "  File \"/home/ubuntu/anaconda3/envs/idl_ubuntu/lib/python3.7/site-packages/kaggle/api/kaggle_api_extended.py\", line 166, in authenticate\n",
      "    self.config_file, self.config_dir))\n",
      "OSError: Could not find kaggle.json. Make sure it's located in /home/ubuntu/.kaggle. Or use the environment method.\n"
     ]
    }
   ],
   "source": [
    "# Connection setup\n",
    "\n",
    "!chmod 600 .kaggle/kaggle.json\n",
    "!cp .kaggle/kaggle.json /home/alejandroxag/.kaggle/\n",
    "!kaggle config set -n path -v ./nbs/data"
   ]
  },
  {
   "cell_type": "code",
   "execution_count": null,
   "metadata": {},
   "outputs": [
    {
     "name": "stdout",
     "output_type": "stream",
     "text": [
      "Downloading 11785-spring2021-hw2p2s1-face-classification.zip to ./data/competitions/11785-spring2021-hw2p2s1-face-classification\n",
      "100%|████████████████████████████████████████| 586M/586M [01:10<00:00, 13.7MB/s]\n",
      "100%|████████████████████████████████████████| 586M/586M [01:10<00:00, 8.66MB/s]\n"
     ]
    }
   ],
   "source": [
    "!kaggle competitions download -c 11785-spring2021-hw2p2s1-face-classification"
   ]
  },
  {
   "cell_type": "code",
   "execution_count": null,
   "metadata": {},
   "outputs": [
    {
     "name": "stdout",
     "output_type": "stream",
     "text": [
      "Downloading 11785-spring2021-hw2p2s2-face-verification.zip to ./data/competitions/11785-spring2021-hw2p2s2-face-verification\n",
      "100%|███████████████████████████████████████▊| 103M/103M [00:37<00:00, 2.69MB/s]\n",
      "100%|████████████████████████████████████████| 103M/103M [00:37<00:00, 2.93MB/s]\n"
     ]
    }
   ],
   "source": [
    "!kaggle competitions download -c 11785-spring2021-hw2p2s2-face-verification"
   ]
  },
  {
   "cell_type": "code",
   "execution_count": null,
   "metadata": {},
   "outputs": [],
   "source": [
    "#export\n",
    "# Data unziping\n",
    "\n",
    "import os\n",
    "from zipfile import ZipFile\n",
    "\n",
    "print(os.getcwd())\n",
    "\n",
    "with ZipFile('./data/competitions/11785-spring2021-hw2p2s1-face-classification/11785-spring2021-hw2p2s1-face-classification.zip', ) as zf: zf.extractall(path='./data/s1')\n",
    "\n",
    "with ZipFile('./data/competitions/11785-spring2021-hw2p2s2-face-verification/11785-spring2021-hw2p2s2-face-verification.zip', ) as zf: zf.extractall(path='./data/s2')\n"
   ]
  }
 ],
 "metadata": {
  "kernelspec": {
   "display_name": "idl_ubuntu",
   "language": "python",
   "name": "idl_ubuntu"
  },
  "language_info": {
   "codemirror_mode": {
    "name": "ipython",
    "version": 3
   },
   "file_extension": ".py",
   "mimetype": "text/x-python",
   "name": "python",
   "nbconvert_exporter": "python",
   "pygments_lexer": "ipython3",
   "version": "3.7.6"
  }
 },
 "nbformat": 4,
 "nbformat_minor": 4
}
