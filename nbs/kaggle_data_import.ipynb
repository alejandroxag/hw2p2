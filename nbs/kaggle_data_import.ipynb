{
 "cells": [
  {
   "cell_type": "code",
   "execution_count": 1,
   "metadata": {},
   "outputs": [],
   "source": [
    "# default_exp kaggle_data_setup "
   ]
  },
  {
   "cell_type": "code",
   "execution_count": 2,
   "metadata": {},
   "outputs": [],
   "source": [
    "#hide\n",
    "%load_ext autoreload\n",
    "%autoreload 2"
   ]
  },
  {
   "cell_type": "markdown",
   "metadata": {},
   "source": [
    "# Kaggle data setup\n",
    "\n",
    "Execute this script once to retrieve data from Kaggle"
   ]
  },
  {
   "cell_type": "code",
   "execution_count": 3,
   "metadata": {},
   "outputs": [
    {
     "name": "stdout",
     "output_type": "stream",
     "text": [
      "/home/ubuntu/hw2p2/nbs\n",
      "/home/ubuntu/hw2p2\n"
     ]
    }
   ],
   "source": [
    "!pwd\n",
    "%cd .."
   ]
  },
  {
   "cell_type": "code",
   "execution_count": 4,
   "metadata": {},
   "outputs": [
    {
     "name": "stdout",
     "output_type": "stream",
     "text": [
      "Collecting Kaggle\n",
      "  Downloading kaggle-1.5.12.tar.gz (58 kB)\n",
      "\u001b[K     |████████████████████████████████| 58 kB 3.6 MB/s eta 0:00:011\n",
      "\u001b[?25hRequirement already satisfied: six>=1.10 in /home/ubuntu/anaconda3/lib/python3.7/site-packages (from Kaggle) (1.14.0)\n",
      "Requirement already satisfied: certifi in /home/ubuntu/anaconda3/lib/python3.7/site-packages (from Kaggle) (2020.12.5)\n",
      "Requirement already satisfied: python-dateutil in /home/ubuntu/anaconda3/lib/python3.7/site-packages (from Kaggle) (2.8.1)\n",
      "Requirement already satisfied: requests in /home/ubuntu/anaconda3/lib/python3.7/site-packages (from Kaggle) (2.23.0)\n",
      "Requirement already satisfied: tqdm in /home/ubuntu/anaconda3/lib/python3.7/site-packages (from Kaggle) (4.46.0)\n",
      "Collecting python-slugify\n",
      "  Downloading python-slugify-4.0.1.tar.gz (11 kB)\n",
      "Requirement already satisfied: urllib3 in /home/ubuntu/anaconda3/lib/python3.7/site-packages (from Kaggle) (1.25.8)\n",
      "Collecting text-unidecode>=1.3\n",
      "  Downloading text_unidecode-1.3-py2.py3-none-any.whl (78 kB)\n",
      "\u001b[K     |████████████████████████████████| 78 kB 4.3 MB/s eta 0:00:011\n",
      "\u001b[?25hRequirement already satisfied: idna<3,>=2.5 in /home/ubuntu/anaconda3/lib/python3.7/site-packages (from requests->Kaggle) (2.9)\n",
      "Requirement already satisfied: chardet<4,>=3.0.2 in /home/ubuntu/anaconda3/lib/python3.7/site-packages (from requests->Kaggle) (3.0.4)\n",
      "Building wheels for collected packages: Kaggle, python-slugify\n",
      "  Building wheel for Kaggle (setup.py) ... \u001b[?25ldone\n",
      "\u001b[?25h  Created wheel for Kaggle: filename=kaggle-1.5.12-py3-none-any.whl size=73053 sha256=c9981d0f97891fd2f4b328a1084dcde52276170343261b38a040acf4d0d9962e\n",
      "  Stored in directory: /home/ubuntu/.cache/pip/wheels/62/d6/58/5853130f941e75b2177d281eb7e44b4a98ed46dd155f556dc5\n",
      "  Building wheel for python-slugify (setup.py) ... \u001b[?25ldone\n",
      "\u001b[?25h  Created wheel for python-slugify: filename=python_slugify-4.0.1-py2.py3-none-any.whl size=6767 sha256=407dfe525b34b6584713799d23341df51169bcf233aa1ad97b118b04a338665e\n",
      "  Stored in directory: /home/ubuntu/.cache/pip/wheels/48/1b/6f/5c1cfab22eacbe0095fc619786da6571b55253653c71324b5c\n",
      "Successfully built Kaggle python-slugify\n",
      "Installing collected packages: text-unidecode, python-slugify, Kaggle\n",
      "Successfully installed Kaggle-1.5.12 python-slugify-4.0.1 text-unidecode-1.3\n",
      "[Errno 2] No such file or directory: '/.kaggle/'\n",
      "/home/ubuntu/hw2p2\n",
      "/home/ubuntu/hw2p2\n"
     ]
    }
   ],
   "source": [
    "!pip install Kaggle\n",
    "%cd /.kaggle/\n",
    "!pwd"
   ]
  },
  {
   "cell_type": "code",
   "execution_count": 5,
   "metadata": {},
   "outputs": [
    {
     "name": "stdout",
     "output_type": "stream",
     "text": [
      "{'username': 'alejandroxag', 'key': 'c36bca85da2adb89b094f2f02902a5db'}\n"
     ]
    }
   ],
   "source": [
    "# Credentials\n",
    "\n",
    "import json\n",
    "token = {\"username\":\"alejandroxag\",\"key\":\"c36bca85da2adb89b094f2f02902a5db\"}\n",
    "print(token)\n",
    "with open('kaggle.json', 'w') as file:\n",
    "    json.dump(token, file)"
   ]
  },
  {
   "cell_type": "code",
   "execution_count": 7,
   "metadata": {},
   "outputs": [
    {
     "name": "stdout",
     "output_type": "stream",
     "text": [
      "- path is now set to: ./data\n"
     ]
    }
   ],
   "source": [
    "# Connection setup\n",
    "\n",
    "!chmod 600 .kaggle/kaggle.json\n",
    "!cp .kaggle/kaggle.json /home/ubuntu/.kaggle/kaggle.json\n",
    "!kaggle config set -n path -v ./data"
   ]
  },
  {
   "cell_type": "code",
   "execution_count": 8,
   "metadata": {},
   "outputs": [
    {
     "name": "stdout",
     "output_type": "stream",
     "text": [
      "Downloading 11785-spring2021-hw2p2s1-face-classification.zip to ./data/competitions/11785-spring2021-hw2p2s1-face-classification\n",
      "100%|████████████████████████████████████████| 586M/586M [00:06<00:00, 89.5MB/s]\n",
      "100%|████████████████████████████████████████| 586M/586M [00:06<00:00, 87.8MB/s]\n"
     ]
    }
   ],
   "source": [
    "!kaggle competitions download -c 11785-spring2021-hw2p2s1-face-classification"
   ]
  },
  {
   "cell_type": "code",
   "execution_count": 9,
   "metadata": {},
   "outputs": [
    {
     "name": "stdout",
     "output_type": "stream",
     "text": [
      "Downloading 11785-spring2021-hw2p2s2-face-verification.zip to ./data/competitions/11785-spring2021-hw2p2s2-face-verification\n",
      " 94%|████████████████████████████████████▌  | 97.0M/103M [00:01<00:00, 54.7MB/s]\n",
      "100%|████████████████████████████████████████| 103M/103M [00:01<00:00, 57.2MB/s]\n"
     ]
    }
   ],
   "source": [
    "!kaggle competitions download -c 11785-spring2021-hw2p2s2-face-verification"
   ]
  },
  {
   "cell_type": "code",
   "execution_count": 10,
   "metadata": {},
   "outputs": [
    {
     "name": "stdout",
     "output_type": "stream",
     "text": [
      "/home/ubuntu/hw2p2\n"
     ]
    }
   ],
   "source": [
    "#export\n",
    "# Data unziping\n",
    "\n",
    "import os\n",
    "from zipfile import ZipFile\n",
    "\n",
    "print(os.getcwd())\n",
    "\n",
    "with ZipFile('./data/competitions/11785-spring2021-hw2p2s1-face-classification/11785-spring2021-hw2p2s1-face-classification.zip', ) as zf: zf.extractall(path='./data/s1')\n",
    "\n",
    "with ZipFile('./data/competitions/11785-spring2021-hw2p2s2-face-verification/11785-spring2021-hw2p2s2-face-verification.zip', ) as zf: zf.extractall(path='./data/s2')\n"
   ]
  },
  {
   "cell_type": "code",
   "execution_count": null,
   "metadata": {},
   "outputs": [],
   "source": []
  }
 ],
 "metadata": {
  "kernelspec": {
   "display_name": "idl_ubuntu",
   "language": "python",
   "name": "idl_ubuntu"
  },
  "language_info": {
   "codemirror_mode": {
    "name": "ipython",
    "version": 3
   },
   "file_extension": ".py",
   "mimetype": "text/x-python",
   "name": "python",
   "nbconvert_exporter": "python",
   "pygments_lexer": "ipython3",
   "version": "3.7.10"
  }
 },
 "nbformat": 4,
 "nbformat_minor": 4
}
