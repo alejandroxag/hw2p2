{
 "cells": [
  {
   "cell_type": "code",
   "execution_count": null,
   "metadata": {},
   "outputs": [],
   "source": [
    "# default_exp datasets"
   ]
  },
  {
   "cell_type": "code",
   "execution_count": 1,
   "metadata": {},
   "outputs": [],
   "source": [
    "import os\n",
    "os.chdir('..')\n",
    "os.getcwd()"
   ]
  },
  {
   "cell_type": "code",
   "execution_count": 2,
   "metadata": {},
   "outputs": [],
   "source": [
    "#hide\n",
    "%load_ext autoreload\n",
    "%autoreload 2\n"
   ]
  },
  {
   "cell_type": "markdown",
   "metadata": {},
   "source": [
    "# Dataset Classes\n",
    "\n",
    ">Classes extending `torch.utils.data.Dataset` for the `torch.utils.data.DataLoader` objects to iterate over.\n",
    "\n",
    "Two different classes are provided:\n",
    "\n",
    "* `FaceClassificationDataset` to iterate over training/validation/test pictures, returning a tensor image and its corresponding label (index) in training/validation mode, and a tensor_image in test mode.\n",
    "\n",
    "* `FaceClassificationDataset` to iterate over training/validation/test pictures, returning a tensor image and its label (index), in training mode, a pair of tensor images and their corresponding label, in validation mode, and a pair of tensor images in test mode.\n",
    "\n",
    "To convert `.jpg` images to tensor, the Image module from `Pillow` is used.\n",
    "\n",
    "\n",
    "\n"
   ]
  },
  {
   "cell_type": "code",
   "execution_count": 3,
   "metadata": {},
   "outputs": [],
   "source": [
    "#export\n",
    "# imports\n",
    "import os\n",
    "import numpy as np\n",
    "import torch\n",
    "from torch.utils.data import Dataset\n",
    "import torchvision\n",
    "from torchvision import transforms\n",
    "from PIL import Image"
   ]
  },
  {
   "cell_type": "code",
   "execution_count": 4,
   "metadata": {},
   "outputs": [],
   "source": [
    "#export\n",
    "class FaceClassificationDataset(Dataset):\n",
    "    \"\"\"\n",
    "    \"\"\"\n",
    "    def __init__(self,\n",
    "                 sample=None,\n",
    "                 mode='train'):\n",
    "\n",
    "        # Assertions to avoid wrong inputs\n",
    "        assert mode in ['train', 'val', 'test']\n",
    "        assert mode == 'test' and sample == None or \\\n",
    "            mode != 'test'\n",
    "        if sample is not None:\n",
    "            assert isinstance(sample, (list, np.ndarray))\n",
    "\n",
    "        self.mode = mode\n",
    "\n",
    "        # Directory setup\n",
    "        if mode == 'train': \n",
    "            self.data_dir = './data/s1/train_data'\n",
    "        elif mode == 'val':\n",
    "            self.data_dir = './data/s1/val_data'\n",
    "        else:\n",
    "            self.data_dir = './data/s1/test_data'\n",
    "\n",
    "        # Labels\n",
    "        if (mode == 'train' or mode == 'val'):\n",
    "            if sample is not None:\n",
    "                sample = np.array(sample)\n",
    "                assert sample.min() >= 0\n",
    "                self.labels = np.array(sample)\n",
    "                self.labels.sort(axis=0)\n",
    "            else: \n",
    "                self.labels = [int(d) for d in os.listdir(self.data_dir)]\n",
    "                self.labels = np.array(self.labels)\n",
    "                self.labels.sort(axis=0)\n",
    "        else:\n",
    "            self.labels = os.listdir(self.data_dir)\n",
    "            self.labels = np.array([int(f.split('.')[0]) for f in self.labels])\n",
    "            self.labels.sort(axis=0)\n",
    "\n",
    "        if mode != 'test':\n",
    "            self.map_files = []\n",
    "            for l in self.labels:\n",
    "                temp_ls = [(l, f) for f in \\\n",
    "                    os.listdir(os.path.join(self.data_dir, str(l)))]\n",
    "                temp_ls = [(t[0], t[1]) for t in temp_ls]\n",
    "                self.map_files.append(temp_ls)\n",
    "\n",
    "            self.map_files = [t for sl in self.map_files for t in sl]\n",
    "            self.labels = [t[0] for t in self.map_files]\n",
    "            self.X = [t[1] for t in self.map_files]  \n",
    "        else:\n",
    "            self.X = [str(s) + '.jpg' for s in self.labels]\n",
    "            self.labels = ['' for s in self.labels]\n",
    "   \n",
    "    def __len__(self): return len(self.X)\n",
    "\n",
    "    def __getitem__(self, idx):\n",
    "        \n",
    "        if self.mode == 'train':\n",
    "            trans_list = [transforms.Resize(80),\n",
    "                          transforms.RandomCrop(64),\n",
    "                          transforms.RandomHorizontalFlip(),\n",
    "                          transforms.ToTensor(),\n",
    "                          transforms.Normalize(mean=[0.485, 0.456, 0.406],\n",
    "                                               std=[0.229, 0.224, 0.225])]\n",
    "        else:\n",
    "            trans_list = [transforms.ToTensor(),\n",
    "                          transforms.Normalize(mean=[0.485, 0.456, 0.406],\n",
    "                                               std=[0.229, 0.224, 0.225])]\n",
    "        \n",
    "        preprocess = transforms.Compose(trans_list)\n",
    "        \n",
    "        image_path = os.path.join(self.data_dir, \n",
    "                                  str(self.labels[idx]), \n",
    "                                  self.X[idx])\n",
    "        image_tensor = Image.open(image_path)\n",
    "        image_tensor = preprocess(image_tensor)\n",
    "\n",
    "        if self.mode == 'test': return image_tensor\n",
    "        else: return image_tensor, self.labels[idx]"
   ]
  },
  {
   "cell_type": "code",
   "execution_count": 5,
   "metadata": {},
   "outputs": [],
   "source": [
    "#export\n",
    "class FaceVerificationDataset(Dataset):\n",
    "    \"\"\"\n",
    "    \"\"\"\n",
    "    def __init__(self,\n",
    "                 sample=None,\n",
    "                 mode='val'):\n",
    "\n",
    "        # Assertions to avoid wrong inputs\n",
    "        assert mode in ['val', 'test']\n",
    "        assert mode == 'test' and sample == None or \\\n",
    "            mode != 'test'\n",
    "        if sample is not None:\n",
    "            assert isinstance(sample, (list, np.ndarray))\n",
    "\n",
    "        self.mode = mode\n",
    "        self.data_dir = './data/s2/'\n",
    "\n",
    "        # Directory setup\n",
    "        if mode == 'val': \n",
    "            self.pairs_file = \\\n",
    "                './data/s2/verification_pairs_val.txt'\n",
    "        else:\n",
    "            self.pairs_file = \\\n",
    "                './data/s2/verification_pairs_test.txt'\n",
    "\n",
    "        with open(self.pairs_file) as f:\n",
    "            self.pairs = [l.rstrip().split() for l in f]\n",
    "\n",
    "        if sample is not None:\n",
    "            sample = np.array(sample)\n",
    "            sample.sort(axis=0)\n",
    "            self.pairs = [self.pairs[i] for i in sample]            \n",
    "   \n",
    "    def __len__(self): return len(self.pairs)\n",
    "\n",
    "    def __getitem__(self, idx):\n",
    "        \n",
    "        trans_list = [transforms.ToTensor(),\n",
    "                          transforms.Normalize(mean=[0.485, 0.456, 0.406],\n",
    "                                               std=[0.229, 0.224, 0.225])]\n",
    "        \n",
    "        preprocess = transforms.Compose(trans_list)\n",
    "        \n",
    "        image_tensor_0 = Image.open(os.path.join(self.data_dir,self.pairs[idx][0]))\n",
    "        image_tensor_1 = Image.open(os.path.join(self.data_dir,self.pairs[idx][1]))\n",
    "        image_tensor_0 = preprocess(image_tensor_0)\n",
    "        image_tensor_1 = preprocess(image_tensor_1)\n",
    "        if self.mode == 'test': \n",
    "            return image_tensor_0, image_tensor_1\n",
    "        else: \n",
    "            return image_tensor_0, image_tensor_1, int(self.pairs[idx][2])"
   ]
  },
  {
   "cell_type": "markdown",
   "metadata": {},
   "source": [
    "## Tests"
   ]
  },
  {
   "cell_type": "code",
   "execution_count": 6,
   "metadata": {},
   "outputs": [],
   "source": [
    "import os"
   ]
  },
  {
   "cell_type": "code",
   "execution_count": 7,
   "metadata": {},
   "outputs": [
    {
     "name": "stdout",
     "output_type": "stream",
     "text": [
      "/home/ubuntu/hw2p2\n"
     ]
    }
   ],
   "source": [
    "print(os.getcwd())"
   ]
  },
  {
   "cell_type": "code",
   "execution_count": 8,
   "metadata": {},
   "outputs": [
    {
     "name": "stdout",
     "output_type": "stream",
     "text": [
      "torch.Size([3, 64, 64])\n",
      "torch.Size([3, 64, 64])\n",
      "torch.Size([3, 64, 64])\n",
      "41\n",
      "2\n",
      "1\n"
     ]
    }
   ],
   "source": [
    "sample = np.array(range(1))\n",
    "train_dataset = FaceClassificationDataset(sample, mode='train')\n",
    "val_c_dataset = FaceClassificationDataset(sample, mode='val')\n",
    "val_v_dataset = FaceVerificationDataset(sample, mode='val')\n",
    "\n",
    "print(train_dataset.__getitem__(0)[0].shape)\n",
    "print(val_c_dataset.__getitem__(0)[0].shape)\n",
    "print(val_v_dataset.__getitem__(0)[0].shape)\n",
    "print(len(train_dataset))\n",
    "print(len(val_c_dataset))\n",
    "print(len(val_v_dataset))"
   ]
  }
 ],
 "metadata": {
  "kernelspec": {
   "display_name": "Environment (conda_idl_ubuntu)",
   "language": "python",
   "name": "conda_idl_ubuntu"
  },
  "language_info": {
   "codemirror_mode": {
    "name": "ipython",
    "version": 3
   },
   "file_extension": ".py",
   "mimetype": "text/x-python",
   "name": "python",
   "nbconvert_exporter": "python",
   "pygments_lexer": "ipython3",
   "version": "3.7.10"
  }
 },
 "nbformat": 4,
 "nbformat_minor": 4
}
