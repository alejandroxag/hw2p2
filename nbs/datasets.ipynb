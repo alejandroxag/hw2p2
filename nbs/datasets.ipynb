{
 "cells": [
  {
   "cell_type": "code",
   "execution_count": null,
   "metadata": {},
   "outputs": [],
   "source": [
    "# default_exp datasets"
   ]
  },
  {
   "cell_type": "code",
   "execution_count": null,
   "metadata": {},
   "outputs": [],
   "source": [
    "#hide\n",
    "%load_ext autoreload\n",
    "%autoreload 2\n"
   ]
  },
  {
   "cell_type": "markdown",
   "metadata": {},
   "source": [
    "# Dataset Classes\n",
    "\n",
    ">Classes extending `torch.utils.data.Dataset` for the `torch.utils.data.DataLoader` objects to iterate over.\n",
    "\n",
    "Two different classes are provided:\n",
    "\n",
    "* `FaceClassificationDataset` to iterate over training/validation/test pictures, returning a tensor image and its corresponding label (index) in training/validation mode, and a tensor_image in test mode.\n",
    "\n",
    "* `FaceClassificationDataset` to iterate over training/validation/test pictures, returning a tensor image and its label (index), in training mode, a pair of tensor images and their corresponding label, in validation mode, and a pair of tensor images in test mode.\n",
    "\n",
    "To convert `.jpg` images to tensor, the Image module from `Pillow` is used.\n",
    "\n",
    "\n",
    "\n"
   ]
  },
  {
   "cell_type": "code",
   "execution_count": null,
   "metadata": {},
   "outputs": [],
   "source": [
    "#export\n",
    "# imports\n",
    "import os\n",
    "import numpy as np\n",
    "import torch\n",
    "from torch.utils.data import Dataset\n",
    "import torchvision\n",
    "from PIL import Image"
   ]
  },
  {
   "cell_type": "code",
   "execution_count": null,
   "metadata": {},
   "outputs": [],
   "source": [
    "#export\n",
    "class FaceClassificationDataset(Dataset):\n",
    "    \"\"\"\n",
    "    \"\"\"\n",
    "    def __init__(self,\n",
    "                 sample=None,\n",
    "                 mode='train'):\n",
    "\n",
    "        # Assertions to avoid wrong inputs\n",
    "        assert mode in ['train', 'val', 'test']\n",
    "        assert mode == 'test' and sample == None or \\\n",
    "            mode != 'test'\n",
    "        if sample is not None:\n",
    "            assert isinstance(sample, (list, np.ndarray))\n",
    "\n",
    "        self.mode = mode\n",
    "\n",
    "        # Directory setup\n",
    "        if mode == 'train': \n",
    "            self.data_dir = './data/s1/train_data'\n",
    "        elif mode == 'val':\n",
    "            self.data_dir = './data/s1/val_data'\n",
    "        else:\n",
    "            self.data_dir = './data/s1/test_data'\n",
    "\n",
    "        # Labels\n",
    "        if (mode == 'train' or mode == 'val'):\n",
    "            if sample is not None:\n",
    "                sample = np.array(sample)\n",
    "                assert sample.min() >= 0\n",
    "                self.labels = np.array(sample)\n",
    "                self.labels.sort(axis=0)\n",
    "            else: \n",
    "               self.labels = [int(d) for d in os.listdir(self.data_dir)]\n",
    "               self.labels = np.array(self.labels)\n",
    "               self.labels.sort(axis=0)\n",
    "        else:\n",
    "            self.labels = os.listdir(self.data_dir)\n",
    "            self.labels = np.array([int(f.split('.')[0]) for f in self.labels])\n",
    "            self.labels.sort(axis=0)\n",
    "\n",
    "        if mode != 'test':\n",
    "            self.map_files = []\n",
    "            for l in self.labels:\n",
    "                temp_ls = [(l, f) for f in \\\n",
    "                    os.listdir(os.path.join(self.data_dir, str(l)))]\n",
    "                temp_ls = [(t[0], t[1]) for t in temp_ls]\n",
    "                self.map_files.append(temp_ls)\n",
    "\n",
    "            self.map_files = [t for sl in self.map_files for t in sl]\n",
    "            self.labels = [t[0] for t in self.map_files]\n",
    "            self.X = [t[1] for t in self.map_files]  \n",
    "        else:\n",
    "            self.X = [str(s) + '.jpg' for s in self.labels]\n",
    "            self.labels = ['' for s in self.labels]\n",
    "   \n",
    "    def __len__(self): return len(self.X)\n",
    "\n",
    "    def __getitem__(self, idx):\n",
    "        image_path = os.path.join(self.data_dir, \n",
    "                                  str(self.labels[idx]), \n",
    "                                  self.X[idx])\n",
    "        image_tensor = Image.open(image_path)\n",
    "        image_tensor = torchvision.transforms.ToTensor()(image_tensor)\n",
    "        if self.mode == 'test': return image_tensor\n",
    "        else: return image_tensor, self.labels[idx]"
   ]
  },
  {
   "cell_type": "code",
   "execution_count": null,
   "metadata": {},
   "outputs": [],
   "source": [
    "#export\n",
    "class FaceVerificationDataset(Dataset):\n",
    "    \"\"\"\n",
    "    \"\"\"\n",
    "    def __init__(self,\n",
    "                 sample=None,\n",
    "                 mode='train'):\n",
    "\n",
    "        # Assertions to avoid wrong inputs\n",
    "        assert mode in ['val', 'test']\n",
    "        assert mode == 'test' and sample == None or \\\n",
    "            mode != 'test'\n",
    "        if sample is not None:\n",
    "            assert isinstance(sample, (list, np.ndarray))\n",
    "\n",
    "        self.mode = mode\n",
    "        self.data_dir = './data/s2/'\n",
    "\n",
    "        # Directory setup\n",
    "        if mode == 'val': \n",
    "            self.pairs_file = \\\n",
    "                './data/s2/verification_pairs_val.txt'\n",
    "        else:\n",
    "            self.pairs_file = \\\n",
    "                './data/s2/verification_pairs_test.txt'\n",
    "\n",
    "        with open(self.pairs_file) as f:\n",
    "            self.pairs = [l.rstrip().split() for l in f]\n",
    "\n",
    "        if sample is not None:\n",
    "            sample = np.array(sample)\n",
    "            sample.sort(axis=0)\n",
    "            self.pairs = [self.pairs[i] for i in sample]            \n",
    "   \n",
    "    def __len__(self): return len(self.pairs)\n",
    "\n",
    "    def __getitem__(self, idx):\n",
    "        image_tensor_0 = Image.open(os.path.join(self.data_dir,self.pairs[idx][0]))\n",
    "        image_tensor_1 = Image.open(os.path.join(self.data_dir,self.pairs[idx][1]))\n",
    "        image_tensor_0 = torchvision.transforms.ToTensor()(image_tensor_0)\n",
    "        image_tensor_1 = torchvision.transforms.ToTensor()(image_tensor_1)\n",
    "        if self.mode == 'test': \n",
    "            return image_tensor_0, image_tensor_1\n",
    "        else: \n",
    "            return image_tensor_0, image_tensor_1, int(self.pairs[idx][2])"
   ]
  },
  {
   "cell_type": "markdown",
   "metadata": {},
   "source": [
    "## Tests"
   ]
  },
  {
   "cell_type": "code",
   "execution_count": null,
   "metadata": {},
   "outputs": [],
   "source": [
    "import os"
   ]
  },
  {
   "cell_type": "code",
   "execution_count": null,
   "metadata": {},
   "outputs": [],
   "source": [
    "print(os.getcwd())\n",
    "os.chdir('..')"
   ]
  },
  {
   "cell_type": "code",
   "execution_count": null,
   "metadata": {},
   "outputs": [],
   "source": [
    "print(os.getcwd())"
   ]
  },
  {
   "cell_type": "code",
   "execution_count": null,
   "metadata": {},
   "outputs": [
    {
     "name": "stdout",
     "output_type": "stream",
     "text": [
      "(tensor([[[0.2588, 0.2471, 0.2510,  ..., 0.2824, 0.2902, 0.2941],\n         [0.2627, 0.2510, 0.2549,  ..., 0.2863, 0.2941, 0.2980],\n         [0.2588, 0.2431, 0.2471,  ..., 0.2941, 0.2980, 0.2980],\n         ...,\n         [0.0039, 0.0549, 0.0000,  ..., 0.0784, 0.0627, 0.0549],\n         [0.0196, 0.0392, 0.0627,  ..., 0.0824, 0.0471, 0.0275],\n         [0.0627, 0.0000, 0.1765,  ..., 0.0510, 0.0431, 0.0510]],\n\n        [[0.2549, 0.2431, 0.2392,  ..., 0.2588, 0.2706, 0.2745],\n         [0.2627, 0.2471, 0.2431,  ..., 0.2627, 0.2745, 0.2784],\n         [0.2588, 0.2431, 0.2392,  ..., 0.2706, 0.2784, 0.2784],\n         ...,\n         [0.0157, 0.0667, 0.0000,  ..., 0.0863, 0.0706, 0.0627],\n         [0.0275, 0.0471, 0.0706,  ..., 0.0902, 0.0588, 0.0392],\n         [0.0706, 0.0000, 0.1843,  ..., 0.0627, 0.0549, 0.0588]],\n\n        [[0.0667, 0.0627, 0.0706,  ..., 0.0627, 0.0549, 0.0549],\n         [0.0667, 0.0588, 0.0667,  ..., 0.0588, 0.0549, 0.0510],\n         [0.0549, 0.0471, 0.0510,  ..., 0.0667, 0.0588, 0.0510],\n         ...,\n         [0.0902, 0.1412, 0.0706,  ..., 0.1333, 0.1176, 0.1098],\n         [0.1176, 0.1294, 0.1529,  ..., 0.1490, 0.1255, 0.1059],\n         [0.1608, 0.0824, 0.2667,  ..., 0.1294, 0.1294, 0.1412]]]), tensor([[[0.0000, 0.0000, 0.0000,  ..., 0.0000, 0.0000, 0.0000],\n         [0.0000, 0.0000, 0.0000,  ..., 0.0000, 0.0000, 0.0000],\n         [0.0000, 0.0000, 0.0000,  ..., 0.0000, 0.0000, 0.0000],\n         ...,\n         [0.0000, 0.0000, 0.0000,  ..., 0.2078, 0.2353, 0.3333],\n         [0.0000, 0.0000, 0.0000,  ..., 0.2118, 0.1765, 0.3098],\n         [0.0000, 0.0000, 0.0000,  ..., 0.2118, 0.1412, 0.2941]],\n\n        [[0.0000, 0.0000, 0.0000,  ..., 0.0000, 0.0000, 0.0000],\n         [0.0000, 0.0000, 0.0000,  ..., 0.0000, 0.0000, 0.0000],\n         [0.0000, 0.0000, 0.0000,  ..., 0.0000, 0.0000, 0.0000],\n         ...,\n         [0.0000, 0.0000, 0.0000,  ..., 0.1490, 0.1843, 0.2902],\n         [0.0000, 0.0000, 0.0000,  ..., 0.1608, 0.1333, 0.2667],\n         [0.0000, 0.0000, 0.0000,  ..., 0.1608, 0.0980, 0.2510]],\n\n        [[0.0000, 0.0000, 0.0000,  ..., 0.0078, 0.0078, 0.0078],\n         [0.0000, 0.0000, 0.0000,  ..., 0.0078, 0.0078, 0.0078],\n         [0.0000, 0.0000, 0.0000,  ..., 0.0078, 0.0078, 0.0078],\n         ...,\n         [0.0000, 0.0000, 0.0000,  ..., 0.1294, 0.1608, 0.2745],\n         [0.0000, 0.0000, 0.0000,  ..., 0.1294, 0.1098, 0.2431],\n         [0.0078, 0.0078, 0.0000,  ..., 0.1294, 0.0745, 0.2275]]]), 1)\n"
     ]
    }
   ],
   "source": [
    "sample = np.array(range(3))\n",
    "train_dataset = FaceClassificationDataset(sample, mode='train')\n",
    "val_c_dataset = FaceClassificationDataset(sample, mode='val')\n",
    "val_v_dataset = FaceVerificationDataset(sample, mode='val')\n",
    "\n",
    "print(val_v_dataset.__getitem__(1))"
   ]
  }
 ],
 "metadata": {
  "kernelspec": {
   "display_name": "Python 3.7.10 64-bit ('idl_ubuntu': conda)",
   "metadata": {
    "interpreter": {
     "hash": "90fe67124204a04bb5d130edc44abf452890e25295d02a40ff695cfcd1c7864c"
    }
   },
   "name": "python3"
  }
 },
 "nbformat": 4,
 "nbformat_minor": 2
}
