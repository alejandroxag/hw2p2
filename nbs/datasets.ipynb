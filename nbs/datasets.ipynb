{
 "cells": [
  {
   "cell_type": "code",
   "execution_count": null,
   "metadata": {},
   "outputs": [],
   "source": [
    "# default_exp datasets"
   ]
  },
  {
   "cell_type": "code",
   "execution_count": null,
   "metadata": {},
   "outputs": [],
   "source": [
    "#hide\n",
    "%load_ext autoreload\n",
    "%autoreload 2\n"
   ]
  },
  {
   "cell_type": "markdown",
   "metadata": {},
   "source": [
    "# Dataset Classes\n",
    "\n",
    ">Classes extending `torch.utils.data.Dataset` for the `torch.utils.data.DataLoader` objects to iterate over.\n",
    "\n",
    "Two different classes are provided:\n",
    "\n",
    "* `FaceClassificationDataset` to iterate over training/validation/test pictures, returning a tensor image and its corresponding label (index) in training/validation mode, and a tensor_image in test mode.\n",
    "\n",
    "* `FaceClassificationDataset` to iterate over training/validation/test pictures, returning a tensor image and its label (index), in training mode, a pair of tensor images and their corresponding label, in validation mode, and a pair of tensor images in test mode.\n",
    "\n",
    "To convert `.jpg` images to tensor, the Image module from `Pillow` is used.\n",
    "\n",
    "\n",
    "\n"
   ]
  },
  {
   "cell_type": "code",
   "execution_count": null,
   "metadata": {},
   "outputs": [],
   "source": [
    "#export\n",
    "# imports\n",
    "import os\n",
    "import numpy as np\n",
    "import torch\n",
    "from torch.utils.data import Dataset\n",
    "import torchvision\n",
    "from PIL import Image"
   ]
  },
  {
   "cell_type": "code",
   "execution_count": null,
   "metadata": {},
   "outputs": [],
   "source": [
    "#export\n",
    "class FaceClassificationDataset(Dataset):\n",
    "    \"\"\" Face Classification Dataset\n",
    "    \n",
    "    Class inheriting from the torch.data.utils.Dataset class.\n",
    "\n",
    "    Fields\n",
    "    ------\n",
    "\n",
    "\n",
    "\n",
    "    Methods\n",
    "    -------\n",
    "\n",
    "    \n",
    "    \"\"\"\n",
    "    def __init__(self,\n",
    "                 sample=None,\n",
    "                 mode='train'):\n",
    "        \n",
    "        # Assertions to avoid wrong inputs\n",
    "        assert mode in ['train', 'val', 'test']\n",
    "        assert mode == 'test' and 'sample' != None or \\\n",
    "            mode != 'test'\n",
    "        if sample is not None:\n",
    "            assert isinstance(sample, (list, np.ndarray))\n",
    "            assert mode != 'test'\n",
    "\n",
    "        self.mode = mode\n",
    "\n",
    "        # Directory setup\n",
    "        if mode == 'train': \n",
    "            self.data_dir = '../nbs/data/s1/train_data'\n",
    "        elif mode == 'val':\n",
    "            self.data_dir = '../nbs/data/s1/val_data'\n",
    "        else:\n",
    "            self.data_dir = '../nbs/data/s1/test_data'\n",
    "\n",
    "        # Labels\n",
    "        if (mode == 'train' or mode == 'val'):\n",
    "            if sample is not None:\n",
    "                sample = np.array(sample)\n",
    "                # assert files.sum() + len(files) == \\\n",
    "                #     len(files)*(len(files) + 1)//2\n",
    "                assert sample.min() >= 0\n",
    "                self.labels = np.array(sample)\n",
    "                self.labels.sort(axis=0)\n",
    "            else: \n",
    "               self.labels = [int(d) for d in os.listdir(self.data_dir)]\n",
    "               self.labels = np.array(self.labels)\n",
    "               self.labels.sort(axis=0)\n",
    "        else:\n",
    "            self.labels = os.listdir(self.data_dir)\n",
    "            self.labels = np.array([int(f.split('.')[0]) for f in self.labels])\n",
    "            self.labels.sort(axis=0)\n",
    "\n",
    "        self.map_files = []\n",
    "        for l in self.labels:\n",
    "            temp_ls = [(l, f) for f in \\\n",
    "                os.listdir(os.path.join(self.data_dir, str(l)))]\n",
    "            temp_ls = [(t[0], t[1]) for t in temp_ls]\n",
    "            self.map_files.append(temp_ls)\n",
    "        \n",
    "        self.map_files = [t for sl in self.map_files for t in sl]\n",
    "        self.labels = [t[0] for t in self.map_files]\n",
    "        self.X = [t[1] for t in self.map_files]        \n",
    "\n",
    "    def __len__(self): return len(self.X)\n",
    "\n",
    "    def __getitem__(self, idx):\n",
    "        image_path = os.path.join(self.data_dir, \n",
    "                                  str(self.labels[idx]), \n",
    "                                  self.X[idx])\n",
    "        print(image_path)\n",
    "        image_tensor = Image.open(image_path)\n",
    "        image_tensor = torchvision.transforms.ToTensor()(image_tensor)\n",
    "        if self.mode == 'test': return image_tensor\n",
    "        else: return image_tensor, self.labels[idx]"
   ]
  },
  {
   "cell_type": "code",
   "execution_count": null,
   "metadata": {},
   "outputs": [],
   "source": [
    "test_dataset = FaceClassificationDataset(np.random.randint(1,100,20), mode='train')\n"
   ]
  },
  {
   "cell_type": "code",
   "execution_count": null,
   "metadata": {},
   "outputs": [
    {
     "name": "stdout",
     "output_type": "stream",
     "text": [
      "../nbs/data/s1/train_data\n1800\n(2, '0004_01.jpg')\n0004_01.jpg\n2\n1800\n"
     ]
    }
   ],
   "source": [
    "print(test_dataset.data_dir)\n",
    "print(len(test_dataset.map_files))\n",
    "print(test_dataset.map_files[0])\n",
    "print(test_dataset.X[0])\n",
    "print(test_dataset.labels[0])\n",
    "print(test_dataset.__len__())"
   ]
  },
  {
   "cell_type": "code",
   "execution_count": null,
   "metadata": {},
   "outputs": [
    {
     "name": "stdout",
     "output_type": "stream",
     "text": [
      "/mnt/c/Users/aleja/google drive alejandro/cmu/spring_2021/idl/hw/hw2p2/nbs\n"
     ]
    }
   ],
   "source": [
    "!pwd"
   ]
  },
  {
   "cell_type": "code",
   "execution_count": null,
   "metadata": {},
   "outputs": [
    {
     "name": "stdout",
     "output_type": "stream",
     "text": [
      "../nbs/data/s1/train_data/2/0004_01.jpg\n"
     ]
    }
   ],
   "source": [
    "img, label = test_dataset.__getitem__(0)"
   ]
  },
  {
   "cell_type": "code",
   "execution_count": null,
   "metadata": {},
   "outputs": [
    {
     "name": "stdout",
     "output_type": "stream",
     "text": [
      "torch.Size([3, 64, 64])\n"
     ]
    }
   ],
   "source": [
    "print(img.shape)"
   ]
  },
  {
   "cell_type": "code",
   "execution_count": null,
   "metadata": {},
   "outputs": [],
   "source": []
  }
 ],
 "metadata": {
  "kernelspec": {
   "display_name": "Python 3.7.10 64-bit ('idl_ubuntu': conda)",
   "metadata": {
    "interpreter": {
     "hash": "90fe67124204a04bb5d130edc44abf452890e25295d02a40ff695cfcd1c7864c"
    }
   },
   "name": "python3"
  }
 },
 "nbformat": 4,
 "nbformat_minor": 2
}
